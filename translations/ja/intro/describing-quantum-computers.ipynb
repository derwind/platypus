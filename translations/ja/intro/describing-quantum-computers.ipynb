{
 "cells": [
  {
   "cell_type": "markdown",
   "metadata": {
    "gloss": {
     "complex-number": {
      "text": "複素数は、実数と<a href='https://en.wikipedia.org/wiki/Imaginary_number'>虚数</a>の組み合わせで作ることができます。この意味がよくわからなくても、心配しないでください。このコースでは必要ありません（でも、興味があれば<a href='https://en.wikipedia.org/wiki/Complex_number'>もっと詳しく読む</a>ことができます。",
      "title": "複素数"
     },
     "esoteric": {
      "text": "難解な単語とは、ほとんどの人が理解できない専門的な言葉です。なるべく避けたいところですが、時には役に立つこともあります。",
      "title": "難解な"
     },
     "real-number": {
      "text": "実数とは、大きさだけを持つ数のことです。実数という言葉を聞いたことがない人は、「実」を捨てて「数」とだけ呼んでもいいかもしれません。実数の例としては、以下のようなものがあります。112, -5.4, π。<a href='https://en.wikipedia.org/wiki/Real_number'>もっと詳しく読む</a>。",
      "title": "実数"
     }
    }
   },
   "source": [
    "# 量子コンピューターの説明\n",
    "\n",
    "この章では、量子コンピューターを記述するために使用する様々な数学的オブジェクトと表記法を紹介します。記号や方程式、専門的な語彙を使うことで、非常に簡潔に数学と向き合い、コミュニケーションすることができます。しかし、記号の意味を知らないと理解するのが難しく、人を遠ざけることにもなりかねません。そこで、このテキストブックでは、数式をインタラクティブに表示します。記号の上にマウスを乗せると、その記号が何を意味しているかがわかります。また、数学や量子コンピューターの言葉を話せるようになるために、[難解な](gloss:esoteric)単語を少しずつ散りばめ、これらの単語にマウスを乗せると、その単語の解説を見ることができるようになっています。\n",
    "\n",
    "## 振幅\n",
    "\n",
    "古典的な確率は0から1の間の[実数](gloss:real-number)で表されることが多いですが、振幅は方向も持っています。振幅を表現するための自然な候補は[複素数](gloss:complex-number)です。複素数も大きさと方向の両方で完全に記述できますが、このコースでは、2方向（例えば左と右）を指す振幅だけを扱い、それ以外は気にしないことにしています。\n",
    "\n",
    "![Image comparing amplitudes and probabilities](images/quantum-states/prob-vs-amp.svg)\n",
    "\n",
    "これにより、計算が非常にシンプルになります。つまり、振幅を-1から+1までの数字で表すことができ、その数字が正であれば振幅は前を向き、負であれば後ろを向いていることになるからです。しかし、これでも十分に面白いことができることがわかります。\n",
    "\n",
    "<!-- ::: q-block.exercise -->\n",
    "\n",
    "### クイッククイズ\n",
    "\n",
    "<!-- ::: q-quiz(goal=\"intro-describing-0\") -->\n",
    "\n",
    "<!-- ::: .question -->\n",
    "\n",
    "このうち、有効な振幅ではあるが、有効な確率ではないものはどれか？\n",
    "\n",
    "<!-- ::: -->\n",
    "\n",
    "<!-- ::: .option(correct) -->\n",
    "\n",
    "1. $-1$\n",
    "\n",
    "<!-- ::: -->\n",
    "\n",
    "<!-- ::: .option -->\n",
    "\n",
    "2. $1/3$\n",
    "\n",
    "<!-- ::: -->\n",
    "\n",
    "<!-- ::: .option -->\n",
    "\n",
    "3. $1.01$\n",
    "\n",
    "<!-- ::: -->\n",
    "\n",
    "<!-- ::: .option -->\n",
    "\n",
    "3. $\\sqrt{-2}$\n",
    "\n",
    "<!-- ::: -->\n",
    "\n",
    "<!-- ::: -->\n",
    "\n",
    "<!-- ::: -->"
   ]
  },
  {
   "cell_type": "markdown",
   "metadata": {
    "formulas": {
     "_amp-0-0": {
      "meaning": "これは2量子ビット状態<code>00</code>の振幅で、1/2の平方根に等しいです。"
     },
     "_amp-1-0": {
      "meaning": "これは2量子ビット状態<code>01</code>の振幅で、1/2の平方根に等しいです。"
     },
     "_amp-2-0": {
      "meaning": "これは2量子ビット状態<code>10</code>の振幅で、0に等しいです。"
     },
     "_amp-3-0": {
      "meaning": "これは2量子ビットの状態<code>11</code>の振幅で、0に等しいです。"
     },
     "def-equal": {
      "meaning": "この意味は、この記号の左側にあるものは、この記号の右側にあるものと等しいと定義しているというものです。"
     },
     "x-ket": {
      "meaning": "これは「|x⟩」というラベルを付けたベクトルで、「|」と「⟩」がこのラベルがベクトルを指していることを表しています。",
      "say": "ケットx"
     }
    }
   },
   "source": [
    "## 状態ベクトル\n",
    "\n",
    "前ページでは、計算の各段階における各結果の確率振幅を記録することで、量子系の振る舞いを予測することができることを紹介しました。また、n個の量子ビットに対して、$2^n$個の可能な結果があり、これらの振幅を長さ$2^n$のリストに格納することができることを見ました。これらのベクトルは量子ビットの状態を表すので、私たちは「状態ベクトル」と呼んでいます。\n",
    "\n",
    "ここでは、2つの量子ビットを持つ量子コンピューターの状態ベクトルの例を示します。\n",
    "\n",
    "$$\\class{x-ket}{|x\\rangle} \\class{def-equal}{:=} \\begin{bmatrix}\\cssId{_amp-0-0}{\\sqrt{\\tfrac{1}{2}}} \\\\ \\cssId{_amp-1-0}{\\sqrt{\\tfrac{1}{2}}} \\\\ \\cssId{_amp-2-0}{0} \\\\ \\cssId{_amp-3-0}{0} \\end{bmatrix}$$\n",
    "\n",
    "上の式のツールチップを読んでから、以下の質問に答えてください。\n",
    "\n",
    "<!-- ::: q-block.exercise -->\n",
    "\n",
    "### クイッククイズ\n",
    "\n",
    "<!-- ::: q-quiz(goal=\"intro-describing-1\") -->\n",
    "\n",
    "<!-- ::: .question -->\n",
    "\n",
    "上の状態ベクトルにおいて、結果'01'の振幅は何か？\n",
    "\n",
    "<!-- ::: -->\n",
    "\n",
    "<!-- ::: .option -->\n",
    "\n",
    "1. $1$\n",
    "\n",
    "<!-- ::: -->\n",
    "\n",
    "<!-- ::: .option(correct) -->\n",
    "\n",
    "2. $\\sqrt{\\tfrac{1}{2}}$\n",
    "\n",
    "<!-- ::: -->\n",
    "\n",
    "<!-- ::: .option -->\n",
    "\n",
    "3. $1/2$\n",
    "\n",
    "<!-- ::: -->\n",
    "\n",
    "<!-- ::: .option -->\n",
    "\n",
    "3. $0$\n",
    "\n",
    "<!-- ::: -->\n",
    "\n",
    "<!-- ::: -->\n",
    "\n",
    "***\n",
    "\n",
    "<!-- ::: q-quiz(goal=\"intro-describing-2\") -->\n",
    "\n",
    "<!-- ::: .question -->\n",
    "\n",
    "上の状態ベクトルがいくつかの量子ビットの状態を表しているとしたら、'00'を測定する確率は何か？\n",
    "\n",
    "<!-- ::: -->\n",
    "\n",
    "<!-- ::: .option -->\n",
    "\n",
    "1. $1$\n",
    "\n",
    "<!-- ::: -->\n",
    "\n",
    "<!-- ::: .option -->\n",
    "\n",
    "2. $\\sqrt{\\tfrac{1}{2}}$\n",
    "\n",
    "<!-- ::: -->\n",
    "\n",
    "<!-- ::: .option(correct) -->\n",
    "\n",
    "3. $1/2$\n",
    "\n",
    "<!-- ::: -->\n",
    "\n",
    "<!-- ::: .option -->\n",
    "\n",
    "3. $0$\n",
    "\n",
    "<!-- ::: -->\n",
    "\n",
    "<!-- ::: -->\n",
    "\n",
    "<!-- ::: -->"
   ]
  },
  {
   "cell_type": "markdown",
   "metadata": {
    "formulas": {
     "_amp-0-1": {
      "meaning": "Multiplying this number by the scalar on the left of the vector gives us the amplitude of the state <code>00</code>."
     },
     "_amp-0-general": {
      "meaning": "This is the amplitude of the state <code>00</code>."
     },
     "_amp-1-1": {
      "meaning": "Multiplying this number by the scalar on the left of the vector gives us the amplitude of the state <code>01</code>."
     },
     "_amp-1-general": {
      "meaning": "This is the amplitude of the state <code>01</code>."
     },
     "_amp-2-1": {
      "meaning": "Multiplying this number by the scalar on the left of the vector gives us the amplitude of the state <code>10</code>."
     },
     "_amp-2-general": {
      "meaning": "This is the amplitude of the state <code>10</code>."
     },
     "_amp-3-1": {
      "meaning": "Multiplying this number by the scalar on the left of the vector gives us the amplitude of the state <code>11</code>."
     },
     "_amp-3-general": {
      "meaning": "This is the amplitude of the state <code>11</code>."
     },
     "_number-three": {
      "meaning": "This is just the normal number <a href='https://en.wikipedia.org/wiki/3'>three</a>. Because it's immediately next to the vector, it means we are multiplying the vector by this number.",
      "say": "Three"
     },
     "_psi-ket": {
      "meaning": "This is a vector we have labelled '|ψ⟩', the '|' and '⟩' remind us this label refers to a vector. The character 'ψ' is written 'psi' in english.",
      "say": "ket sigh (the 'p' is silent)"
     },
     "_sq-amp0": {
      "meaning": "This number is proportional to the amplitude of the state <code>0</code>."
     },
     "_sq-amp1": {
      "meaning": "This number is proportional to the amplitude of the state <code>1</code>."
     },
     "_vec-el-0": {
      "meaning": "This is the zeroth element of the vector."
     },
     "_vec-el-1": {
      "meaning": "This is the first element of the vector."
     },
     "_vec-el-2": {
      "meaning": "This is the second element of the vector."
     },
     "_vec-el-3": {
      "meaning": "This is the third element of the vector."
     },
     "_vec-el-n": {
      "meaning": "This is the (N-1)th element of the vector. Since there are N elements (and we started counting at 0), this is also the last element."
     },
     "def-00": {
      "meaning": "This is a statevector we are defining here (but is also a common convention in quantum computing) which corresponds to being in the state <code>00</code> with certainty."
     },
     "def-01": {
      "meaning": "This is a statevector we are defining here (but is also a common convention in quantum computing) which corresponds to being in the state <code>01</code> with certainty."
     },
     "def-10": {
      "meaning": "This is a statevector we are defining here (but is also a common convention in quantum computing) which corresponds to being in the state <code>10</code> with certainty."
     },
     "def-11": {
      "meaning": "This is a statevector we are defining here (but is also a common convention in quantum computing) which corresponds to being in the state <code>11</code> with certainty."
     },
     "dots": {
      "meaning": "These dots mean \"and so on\", implying a continuing pattern."
     },
     "equals": {
      "meaning": "Everything to the left of this sign is equal to everything to the right of the sign.",
      "say": "Equals"
     },
     "minus-ket": {
      "meaning": "This is a vector we have labelled '|-⟩', the '|' and '⟩' remind us this label refers to a vector.",
      "say": "ket minus"
     },
     "plus-ket": {
      "meaning": "This is a vector we have labelled '|+⟩', the '|' and '⟩' remind us this label refers to a vector.",
      "say": "ket plus"
     },
     "scalar": {
      "meaning": "This is just a normal number. Because it's immediately next to the vector, it means we are multiplying (i.e. scaling) the vector by this number."
     }
    },
    "gloss": {
     "scalar-gloss": {
      "text": "This is just a normal number, i.e. not a vector or matrix.",
      "title": "Scalar"
     }
    }
   },
   "source": [
    "## Adding and multiplying vectors\n",
    "\n",
    "If you study other areas of mathematics, you’ll find that lots of things can be considered vectors. We’ve introduced vectors as ‘lists of numbers’, because this is how we will consider them both in this textbook and in Qiskit. But what separates a vector from any old list of numbers is that mathematicians decided on some well defined rules for adding two vectors, and for multiplying vectors by [scalars](gloss:scalar-gloss).\n",
    "\n",
    "### Multiplying vectors by scalars\n",
    "\n",
    "For example, here is a vector multiplied by a scalar:\n",
    "\n",
    "$$\n",
    "\\cssId{_number-three}{3}\n",
    "\\begin{bmatrix}\n",
    "\\class{_vec-el-0}{1} \\\\\n",
    "\\class{_vec-el-1}{2} \\\\\n",
    "\\class{_vec-el-2}{-1} \\\\\n",
    "\\class{_vec-el-3}{\\tfrac{1}{2}} \\\\\n",
    "\\end{bmatrix}\n",
    "\\class{equals}{=}\n",
    "\\begin{bmatrix}\n",
    "\\class{_vec-el-0}{3} \\\\\n",
    "\\class{_vec-el-1}{6} \\\\\n",
    "\\class{_vec-el-2}{-3} \\\\\n",
    "\\class{_vec-el-3}{\\tfrac{3}{2}} \\\\\n",
    "\\end{bmatrix}\n",
    "$$\n",
    "\n",
    "We can see that each element of the vector has been multiplied by 3. The more general rule for a vector with $N$ elements is:\n",
    "\n",
    "$$\n",
    "\\class{scalar}{s}\n",
    "\\begin{bmatrix}\n",
    "\\class{_vec-el-0}{e_0} \\\\\n",
    "\\class{_vec-el-1}{e_1} \\\\\n",
    "\\class{_vec-el-2}{e_2} \\\\\n",
    "\\class{dots}{\\vdots} \\\\\n",
    "\\class{_vec-el-n}{e_{N-1}} \\\\\n",
    "\\end{bmatrix}\n",
    "\\class{equals}{=}\n",
    "\\begin{bmatrix}\n",
    "\\class{_vec-el-0}{s\\times e_0} \\\\\n",
    "\\class{_vec-el-1}{s\\times e_1} \\\\\n",
    "\\class{_vec-el-2}{s\\times e_2} \\\\\n",
    "\\class{dots}{\\vdots} \\\\\n",
    "\\class{_vec-el-n}{s\\times e_{N-1}} \\\\\n",
    "\\end{bmatrix}\n",
    "$$\n",
    "\n",
    "So we could have written the state vector $|x\\rangle$ we defined above more neatly like this:\n",
    "\n",
    "$$\n",
    "\\class{x-ket}{|x\\rangle} = \\class{scalar}{\\sqrt{\\tfrac{1}{2}}} \\begin{bmatrix}\n",
    "\\cssId{_amp-0-1}{1} \\\\\n",
    "\\cssId{_amp-1-1}{1} \\\\\n",
    "\\cssId{_amp-2-1}{0} \\\\\n",
    "\\cssId{_amp-3-1}{0} \\\\\n",
    "\\end{bmatrix}\n",
    "$$\n",
    "\n",
    "### Adding two vectors\n",
    "\n",
    "The second rule is for adding two vectors together. This is only defined when the two vectors have the same number of elements, and gives a new vector with the same number of elements. Here is the general rule:\n",
    "\n",
    "$$\n",
    "\\begin{bmatrix}\n",
    "\\class{_vec-el-0}{a_0} \\\\\n",
    "\\class{_vec-el-1}{a_1} \\\\\n",
    "\\class{_vec-el-2}{a_2} \\\\\n",
    "\\class{_vec-el-3}{a_3} \\\\\n",
    "\\class{dots}{\\vdots} \\\\\n",
    "\\class{_vec-el-n}{a_{N-1}} \\\\\n",
    "\\end{bmatrix}\n",
    "+\n",
    "\\begin{bmatrix}\n",
    "\\class{_vec-el-0}{b_0} \\\\\n",
    "\\class{_vec-el-1}{b_1} \\\\\n",
    "\\class{_vec-el-2}{b_2} \\\\\n",
    "\\class{_vec-el-3}{b_3} \\\\\n",
    "\\class{dots}{\\vdots} \\\\\n",
    "\\class{_vec-el-n}{b_{N-1}} \\\\\n",
    "\\end{bmatrix}\n",
    "\\class{equals}{=}\n",
    "\\begin{bmatrix}\n",
    "\\class{_vec-el-0}{a_0 + b_0} \\\\\n",
    "\\class{_vec-el-1}{a_1 + b_1} \\\\\n",
    "\\class{_vec-el-2}{a_2 + b_2} \\\\\n",
    "\\class{_vec-el-3}{a_3 + b_3} \\\\\n",
    "\\class{dots}{\\vdots} \\\\\n",
    "\\class{_vec-el-n}{a_{N-1} + b_{N-1}} \\\\\n",
    "\\end{bmatrix}\n",
    "$$\n",
    "\n",
    "This means we can add and subtract vectors to make new vectors. For example, if we define the the vectors $|00\\rangle$ and $|01\\rangle$ like so:\n",
    "\n",
    "\n",
    "$$\n",
    "\\class{def-00}{|00\\rangle} \\class{def-equal}{:=}\n",
    "              \\begin{bmatrix} \\class{_amp-0-general}{1} \\\\\n",
    "                              \\class{_amp-1-general}{0} \\\\ \n",
    "                              \\class{_amp-2-general}{0} \\\\ \n",
    "                              \\class{_amp-3-general}{0}\n",
    "              \\end{bmatrix},\n",
    "\\quad\n",
    "\\class{def-01}{|01\\rangle} \\class{def-equal}{:=}\n",
    "              \\begin{bmatrix} \\class{_amp-0-general}{0} \\\\\n",
    "                              \\class{_amp-1-general}{1} \\\\ \n",
    "                              \\class{_amp-2-general}{0} \\\\\n",
    "                              \\class{_amp-3-general}{0}\n",
    "              \\end{bmatrix}\n",
    "$$\n",
    "\n",
    "We can write $\\class{x-ket}{|x\\rangle}$ in the form:\n",
    "\n",
    "$$\\class{x-ket}{|x\\rangle} = \\sqrt{\\tfrac{1}{2}}(\\class{def-00}{|00\\rangle} + \\class{def-01}{|01\\rangle})$$\n",
    "\n",
    "We call adding quantum states like this “superposing” them, so we can say “$|x\\rangle$ is a superposition of the states $|00\\rangle$ and $|01\\rangle$.” In fact, it’s convention in quantum computing to define the computational basis states like so:\n",
    "\n",
    "$$\n",
    "\\class{def-00}{|00\\rangle} \\class{def-equal}{:=}\n",
    "              \\begin{bmatrix} \\class{_amp-0-general}{1} \\\\\n",
    "                              \\class{_amp-1-general}{0} \\\\ \n",
    "                              \\class{_amp-2-general}{0} \\\\ \n",
    "                              \\class{_amp-3-general}{0}\n",
    "              \\end{bmatrix},\n",
    "\\quad\n",
    "\\class{def-01}{|01\\rangle} \\class{def-equal}{:=}\n",
    "              \\begin{bmatrix} \\class{_amp-0-general}{0} \\\\\n",
    "                              \\class{_amp-1-general}{1} \\\\ \n",
    "                              \\class{_amp-2-general}{0} \\\\\n",
    "                              \\class{_amp-3-general}{0}\n",
    "              \\end{bmatrix},\n",
    "\\quad\n",
    "\\class{def-10}{|10\\rangle} \\class{def-equal}{:=}\n",
    "              \\begin{bmatrix} \\class{_amp-0-general}{0} \\\\ \n",
    "                              \\class{_amp-1-general}{0} \\\\ \n",
    "                              \\class{_amp-2-general}{1} \\\\ \n",
    "                              \\class{_amp-3-general}{0} \n",
    "              \\end{bmatrix},\n",
    "\\quad\n",
    "\\class{def-11}{|11\\rangle} \\class{def-equal}{:=} \n",
    "              \\begin{bmatrix} \\class{_amp-0-general}{0} \\\\ \n",
    "                              \\class{_amp-1-general}{0} \\\\ \n",
    "                              \\class{_amp-2-general}{0} \\\\ \n",
    "                              \\class{_amp-3-general}{1}\n",
    "              \\end{bmatrix}\n",
    "$$\n",
    "\n",
    "And we can write any quantum state as a superposition of these state vectors, if we multiply each vector by the correct number and add them together:\n",
    "\n",
    "$$\n",
    "\\cssId{_psi-ket}{|\\psi\\rangle} = \n",
    "    \\class{_amp-0-general}{a_{00}}\\class{def-00}{|00\\rangle}\n",
    "  + \\class{_amp-1-general}{a_{01}}\\class{def-01}{|01\\rangle}\n",
    "  + \\class{_amp-2-general}{a_{10}}\\class{def-10}{|10\\rangle}\n",
    "  + \\class{_amp-3-general}{a_{11}}\\class{def-11}{|11\\rangle} \\class{equals}{=}\n",
    "\\begin{bmatrix}\n",
    "\\class{_amp-0-general}{a_{00}} \\\\\n",
    "\\class{_amp-1-general}{a_{01}} \\\\\n",
    "\\class{_amp-2-general}{a_{10}} \\\\\n",
    "\\class{_amp-3-general}{a_{11}} \\\\\n",
    "\\end{bmatrix}\n",
    "$$\n",
    "\n",
    "Since we can write any vector as a combination of these four vectors, we say these four vectors form a basis, which we will call the _computational basis_. The computational basis is not the only basis. For single qubits, a popular basis is formed by the vectors $\\class{plus-ket}{|{+}\\rangle}$ and $\\class{minus-ket}{|{-}\\rangle}$:\n",
    "\n",
    "<!-- ::: column -->\n",
    "\n",
    "![image showing both the |0>, |1> basis and the |+>, |-> basis on the same plane](images/quantum-states/basis.svg)\n",
    "\n",
    "<!-- ::: column -->\n",
    "\n",
    "$$\n",
    "\\class{plus-ket}{|{+}\\rangle} =\n",
    "\\sqrt{\\tfrac{1}{2}}\n",
    "\\begin{bmatrix}\n",
    "    \\class{_sq-amp0}{1} \\\\\n",
    "    \\class{_sq-amp1}{1}\n",
    "\\end{bmatrix}\n",
    "$$\n",
    "$$\n",
    "\\class{minus-ket}{|{-}\\rangle} =\n",
    "\\sqrt{\\tfrac{1}{2}}\n",
    "\\begin{bmatrix}\n",
    "    \\class{_sq-amp0}{1} \\\\\n",
    "    \\class{_sq-amp1}{-1}\n",
    "\\end{bmatrix}\n",
    "$$\n",
    "\n",
    "<!-- ::: -->\n",
    "\n",
    "<!-- ::: q-block.exercise -->\n",
    "\n",
    "### Try it\n",
    "\n",
    "Find values for $\\alpha$, $\\beta$, $\\gamma$ and $\\delta$ such that these equations are true:\n",
    "\n",
    "- $\\alpha|{+}\\rangle + \\beta|{-}\\rangle = |0\\rangle$\n",
    "- $\\gamma|{+}\\rangle + \\delta|{-}\\rangle = |1\\rangle$\n",
    "\n",
    "<!-- ::: -->"
   ]
  },
  {
   "cell_type": "markdown",
   "metadata": {
    "formulas": {
     "_amp-i": {
      "meaning": "'a<sub>i</sub>' is the amplitude of the state |i⟩, where |i⟩ is one of the computational basis states."
     },
     "sum": {
      "meaning": "This means we add up the things on the right with different values of i, starting at i=0.",
      "say": "'sum' or 'summation'. The character 'Σ' is capital <a href='https://en.wikipedia.org/wiki/Sigma'>sigma</a>."
     }
    },
    "gloss": {
     "matrix": {
      "text": "Matrices are tables of numbers. They also come with some rules for adding and multiplying like vectors did. <a href='https://en.wikipedia.org/wiki/Matrix_(mathematics)'>Read more</a>.",
      "title": "Matrix"
     }
    }
   },
   "source": [
    "## How many different state vectors are there?\n",
    "\n",
    "We know that we can represent any quantum state using vectors, but is any vector a valid quantum state? In our case, no; since we square our amplitudes to find the probability of outcomes occurring, we need these squares to add to one, otherwise it doesn't make sense.\n",
    "\n",
    "$$\n",
    "\\cssId{sum}{\\sum^{N-1}_{i=0}} \\cssId{_amp-i}{a_i}^2 = 1\n",
    "$$\n",
    "\n",
    "<!-- ::: q-block.exercise -->\n",
    "\n",
    "### Quick quiz\n",
    "\n",
    "<!-- ::: q-quiz(goal=\"quiz2\") -->\n",
    "\n",
    "<!-- ::: .question -->\n",
    "\n",
    "Which of these is a valid quantum state? (Try adding up the squared amplitudes.)\n",
    "\n",
    "<!-- ::: -->\n",
    "\n",
    "<!-- ::: .option(correct) -->\n",
    "\n",
    "1. $\\sqrt{\\tfrac{1}{3}}\\begin{bmatrix} 1 \\\\\\\\ -1 \\\\\\\\ 1 \\\\\\\\ 0 \\end{bmatrix}$\n",
    "\n",
    "<!-- ::: -->\n",
    "\n",
    "<!-- ::: .option -->\n",
    "\n",
    "2. $\\sqrt{\\tfrac{1}{2}}\\begin{bmatrix} 1 \\\\\\\\ -1 \\\\\\\\ -1 \\\\\\\\ 1 \\end{bmatrix}$\n",
    "\n",
    "<!-- ::: -->\n",
    "\n",
    "<!-- ::: .option -->\n",
    "\n",
    "3. $\\tfrac{1}{2}\\begin{bmatrix} 1 \\\\\\\\ 1 \\end{bmatrix}$\n",
    "\n",
    "<!-- ::: -->\n",
    "\n",
    "<!-- ::: -->\n",
    "\n",
    "<!-- ::: -->\n",
    "\n",
    "Another factor is something we call \"global phases\" of state vector. Since we only know phase exists because of the interference effects it produces, we can only ever measure phase _differences_. If we rotated all the amplitudes in a state vector by the same amount, we'd still see the exact same behaviour.\n",
    "\n",
    "<!-- ::: column -->\n",
    "\n",
    "![image showing interference effects with different starting phases](images/quantum-states/global-phase-L.svg)\n",
    "\n",
    "<!-- ::: column -->\n",
    "\n",
    "![image showing interference effects with different starting phases](images/quantum-states/global-phase-R.svg)\n",
    "\n",
    "<!-- ::: -->\n",
    "\n",
    "\n",
    "For example, there is no experiment we could perform that would be able to distinguish between these two states:\n",
    "\n",
    "<!-- ::: column -->\n",
    "\n",
    "$$\n",
    "|a\\rangle = \\sqrt{\\tfrac{1}{2}}\\begin{bmatrix} 1 \\\\ 0 \\\\ 0 \\\\ 1 \\end{bmatrix}\n",
    "$$\n",
    "\n",
    "<!-- ::: column -->\n",
    "\n",
    "$$\n",
    "-|a\\rangle = \\sqrt{\\tfrac{1}{2}}\\begin{bmatrix} -1 \\\\ 0 \\\\ 0 \\\\ -1 \\end{bmatrix}\n",
    "$$\n",
    "\n",
    "<!-- ::: -->\n",
    "\n",
    "Because the differences between each of the amplitudes is the same. You could say these two vectors are different _mathematically_, but the same _physically_.\n",
    "\n",
    "## Quantum operations\n",
    "\n",
    "So now we know all about the different states our qubits can be in, it’s time to look at how we represent the operations that transform one state to another. \n",
    "\n",
    "In the same way there is a transition probability that a certain action will transform a coin from heads to tails, there is a transition amplitude for each starting state and end state of our qubits. We can describe any quantum operations through these transition amplitudes.\n",
    "\n",
    "![Image showing two state vectors before and after an operation](images/quantum-states/quantum-operation.svg)\n",
    "\n",
    "So, what possible transformations are there? Say we have a starting state $|a\\rangle$ that’s transformed to a new state $|b\\rangle$. If we want our representation to cover every possible transformation, then each amplitude in $|a\\rangle$ must have a transition amplitude to each amplitude in $|b\\rangle$.\n",
    "\n",
    "<!-- ::: q-block.exercise -->\n",
    "\n",
    "### Quick quiz\n",
    "\n",
    "<!-- ::: q-quiz(goal=\"intro-describing-3\") -->\n",
    "\n",
    "<!-- ::: .question -->\n",
    "\n",
    "An $n$-qubit state vector can contain up to $2^n$ amplitudes. What’s the largest number of transition amplitudes we’d need to represent any quantum operation on $n$ qubits?\n",
    "\n",
    "<!-- ::: -->\n",
    "\n",
    "<!-- ::: .option -->\n",
    "\n",
    "1. $2\\cdot 2^n$\n",
    "\n",
    "<!-- ::: -->\n",
    "\n",
    "<!-- ::: .option(correct) -->\n",
    "\n",
    "2. $(2^n)^2$\n",
    "\n",
    "<!-- ::: -->\n",
    "\n",
    "<!-- ::: .option -->\n",
    "\n",
    "3. $4^n$\n",
    "\n",
    "<!-- ::: -->\n",
    "\n",
    "<!-- ::: .option -->\n",
    "\n",
    "3. $2^{2^n}$\n",
    "\n",
    "<!-- ::: -->\n",
    "\n",
    "<!-- ::: -->\n",
    "\n",
    "<!-- ::: -->\n",
    "\n",
    "Drawing lines like this is a bit of a messy way of doing it, so instead we can put all these numbers into a [matrix](gloss:matrix):"
   ]
  },
  {
   "cell_type": "markdown",
   "metadata": {
    "formulas": {
     "_cnot-gate": {
      "meaning": "This is the label we have given the matrix that represents the CNOT gate."
     },
     "_t_amp_00_00": {
      "meaning": "This is the amplitude of this operation transforming the state <code>00</code> to <code>00</code>."
     },
     "_t_amp_00_01": {
      "meaning": "This is the amplitude of this operation transforming the state <code>00</code> to <code>01</code>."
     },
     "_t_amp_00_10": {
      "meaning": "This is the amplitude of this operation transforming the state <code>00</code> to <code>10</code>."
     },
     "_t_amp_00_11": {
      "meaning": "This is the amplitude of this operation transforming the state <code>00</code> to <code>11</code>."
     },
     "_t_amp_01_00": {
      "meaning": "This is the amplitude of this operation transforming the state <code>01</code> to <code>00</code>."
     },
     "_t_amp_01_01": {
      "meaning": "This is the amplitude of this operation transforming the state <code>01</code> to <code>01</code>."
     },
     "_t_amp_01_10": {
      "meaning": "This is the amplitude of this operation transforming the state <code>01</code> to <code>10</code>."
     },
     "_t_amp_01_11": {
      "meaning": "This is the amplitude of this operation transforming the state <code>01</code> to <code>11</code>."
     },
     "_t_amp_0_0": {
      "meaning": "This is proportional to the transition amplitude of this operation transforming the state <code>0</code> to <code>0</code>."
     },
     "_t_amp_0_1": {
      "meaning": "This is proportional to the transition amplitude of this operation transforming the state <code>0</code> to <code>1</code>."
     },
     "_t_amp_10_00": {
      "meaning": "This is the amplitude of this operation transforming the state <code>10</code> to <code>00</code>."
     },
     "_t_amp_10_01": {
      "meaning": "This is the amplitude of this operation transforming the state <code>10</code> to <code>01</code>."
     },
     "_t_amp_10_10": {
      "meaning": "This is the amplitude of this operation transforming the state <code>10</code> to <code>10</code>."
     },
     "_t_amp_10_11": {
      "meaning": "This is the amplitude of this operation transforming the state <code>10</code> to <code>11</code>."
     },
     "_t_amp_11_00": {
      "meaning": "This is the amplitude of this operation transforming the state <code>11</code> to <code>00</code>."
     },
     "_t_amp_11_01": {
      "meaning": "This is the amplitude of this operation transforming the state <code>11</code> to <code>01</code>."
     },
     "_t_amp_11_10": {
      "meaning": "This is the amplitude of this operation transforming the state <code>11</code> to <code>10</code>."
     },
     "_t_amp_11_11": {
      "meaning": "This is the amplitude of this operation transforming the state <code>11</code> to <code>11</code>."
     },
     "_t_amp_1_0": {
      "meaning": "This is proportional to the transition amplitude of this operation transforming the state <code>1</code> to <code>0</code>."
     },
     "_t_amp_1_1": {
      "meaning": "This is proportional to the transition amplitude of this operation transforming the state <code>1</code> to <code>1</code>."
     },
     "dot": {
      "meaning": "This dot is a shorthand for multiplication."
     },
     "u-gate": {
      "meaning": "'U' is generally used to represent quantum gates, especially if the gate doesn't have a more specific name. It stands for 'unitary' which is something we'll learn about further down on this page."
     }
    },
    "gloss": {
     "cnot": {
      "text": "The CNOT gate toggles the state of a 'target' qubit if the state of a 'control' qubit is 1.",
      "title": "CNOT"
     }
    }
   },
   "source": [
    "$$\n",
    "\\cssId{u-gate}{U} = \n",
    "\\begin{bmatrix}\n",
    "\\class{_t_amp_00_00}{t_{00\\to 00}} & \\class{_t_amp_01_00}{t_{01\\to 00}} & \\class{_t_amp_10_00}{t_{10\\to 00}} & \\class{_t_amp_11_00}{t_{11\\to 00}} \\\\\n",
    "\\class{_t_amp_00_01}{t_{00\\to 01}} & \\class{_t_amp_01_01}{t_{01\\to 01}} & \\class{_t_amp_10_01}{t_{10\\to 01}} & \\class{_t_amp_11_01}{t_{11\\to 01}} \\\\\n",
    "\\class{_t_amp_00_10}{t_{00\\to 10}} & \\class{_t_amp_01_10}{t_{01\\to 10}} & \\class{_t_amp_10_10}{t_{10\\to 10}} & \\class{_t_amp_11_10}{t_{11\\to 10}} \\\\\n",
    "\\class{_t_amp_00_11}{t_{00\\to 11}} & \\class{_t_amp_01_11}{t_{01\\to 11}} & \\class{_t_amp_10_11}{t_{10\\to 11}} & \\class{_t_amp_11_11}{t_{11\\to 11}} \\\\\n",
    "\\end{bmatrix}\n",
    "$$\n",
    "\n",
    "For example, here is the matrix that represents the CNOT operation we saw in the atoms of computation:\n",
    "\n",
    "$$\n",
    "\\cssId{_cnot-gate}{\\text{CNOT}} =\n",
    "\\begin{bmatrix}\n",
    "\\class{_t_amp_00_00}{1} & \\class{_t_amp_01_00}{0} & \\class{_t_amp_10_00}{0} & \\class{_t_amp_11_00}{0} \\\\\n",
    "\\class{_t_amp_00_01}{0} & \\class{_t_amp_01_01}{0} & \\class{_t_amp_10_01}{0} & \\class{_t_amp_11_01}{1} \\\\\n",
    "\\class{_t_amp_00_10}{0} & \\class{_t_amp_01_10}{0} & \\class{_t_amp_10_10}{1} & \\class{_t_amp_11_10}{0} \\\\\n",
    "\\class{_t_amp_00_11}{0} & \\class{_t_amp_01_11}{1} & \\class{_t_amp_10_11}{0} & \\class{_t_amp_11_11}{0} \\\\\n",
    "\\end{bmatrix}\n",
    "$$\n",
    "\n",
    "<!-- ::: q-block.exercise -->\n",
    "\n",
    "### Quick quiz\n",
    "\n",
    "<!-- ::: q-quiz(goal=\"intro-maths-0\") -->\n",
    "\n",
    "<!-- ::: .question -->\n",
    "\n",
    "What is the transition amplitude of the CNOT operation (as shown above) transforming the state $|10\\rangle$ to $|01\\rangle$?\n",
    "\n",
    "<!-- ::: -->\n",
    "\n",
    "<!-- ::: .option -->\n",
    "\n",
    "1. $1$\n",
    "\n",
    "<!-- ::: -->\n",
    "\n",
    "<!-- ::: .option(correct) -->\n",
    "\n",
    "2. $0$\n",
    "\n",
    "<!-- ::: -->\n",
    "\n",
    "<!-- ::: .option -->\n",
    "\n",
    "3. $\\begin{bmatrix} 1 & 0 & 0 & 0\\end{bmatrix}$\n",
    "\n",
    "<!-- ::: -->\n",
    "\n",
    "<!-- ::: .option -->\n",
    "\n",
    "3. $\\begin{bmatrix} 0 \\\\\\\\ 0 \\\\\\\\ 1 \\\\\\\\ 0\\end{bmatrix}$\n",
    "\n",
    "<!-- ::: -->\n",
    "\n",
    "<!-- ::: -->\n",
    "\n",
    "<!-- ::: -->\n",
    "\n",
    "And here is the matrix for the H-gate we saw in the previous page:\n",
    "\n",
    "$$\n",
    "H = \\sqrt{\\tfrac{1}{2}}\n",
    "\\begin{bmatrix}\n",
    "\\class{_t_amp_0_0}{1} & \\class{_t_amp_1_0}{1} \\\\\n",
    "\\class{_t_amp_0_1}{1} & \\class{_t_amp_1_1}{-1} \\\\\n",
    "\\end{bmatrix}\n",
    "$$\n",
    "\n",
    "(we use the same rule for multiplying a matrix by a scalar as we do with vectors). And when we want to see what effect an operation will have on some qubits, we multiply each transition amplitude by the amplitude of each state in our input state vector, and then add up the amplitudes for each state to get our output state vector. This is exactly the same as multiplying along each branch in a probability (or amplitude) tree and adding up the total probabilities (or amplitudes) at the end.\n",
    "\n",
    "For any mathematicians in the audience, this is just standard matrix multiplication.\n",
    "\n",
    "$$\n",
    "H|0\\rangle = \\sqrt{\\tfrac{1}{2}}\n",
    "\\begin{bmatrix}\n",
    "\\class{_t_amp_0_0}{1} & \\class{_t_amp_1_0}{ 1} \\\\\n",
    "\\class{_t_amp_0_1}{1} & \\class{_t_amp_1_1}{-1} \\\\\n",
    "\\end{bmatrix}\n",
    "\\begin{bmatrix}\n",
    "\\class{_sq-amp0}{1} \\\\\n",
    "\\class{_sq-amp1}{0} \\\\\n",
    "\\end{bmatrix}\n",
    "= \\sqrt{\\tfrac{1}{2}}\n",
    "\\begin{bmatrix}\n",
    "(1 \\class{dot}{\\cdot} 1) & + &  (1 \\class{dot}{\\cdot} 0) \\\\\n",
    "(1 \\class{dot}{\\cdot} 1) & + & (-1 \\class{dot}{\\cdot} 0) \\\\\n",
    "\\end{bmatrix}\n",
    "= \\sqrt{\\tfrac{1}{2}}\n",
    "\\begin{bmatrix}\n",
    "\\class{_sq-amp0}{1} \\\\\n",
    "\\class{_sq-amp1}{1} \\\\\n",
    "\\end{bmatrix}\n",
    "$$\n",
    "\n",
    "![image showing how the H-gate transforms the state |0> into the state |+>](images/quantum-states/h-gate.svg)"
   ]
  },
  {
   "cell_type": "markdown",
   "metadata": {},
   "source": [
    "## Rules of quantum operations\n",
    "\n",
    "In the same way that not every vector is a valid state vector, not every matrix is a valid quantum operation. If a matrix is to make sense as a real operation, it needs to keep the total probability of the output states equal to 1. So for example, this couldn’t be a real operation:\n",
    "\n",
    "$$\n",
    "\\begin{bmatrix}\n",
    "\\class{_t_amp_0_0}{1} & \\class{_t_amp_1_0}{0} \\\\\n",
    "\\class{_t_amp_0_1}{1} & \\class{_t_amp_1_1}{0} \\\\\n",
    "\\end{bmatrix}\n",
    "$$\n",
    "\n",
    "Because if it acts on the state $|0\\rangle$ we get:\n",
    "\n",
    "$$\n",
    "\\begin{bmatrix}\n",
    "\\class{_t_amp_0_0}{1} & \\class{_t_amp_1_0}{0} \\\\\n",
    "\\class{_t_amp_0_1}{1} & \\class{_t_amp_1_1}{0} \\\\\n",
    "\\end{bmatrix}\\begin{bmatrix} 1 \\\\ 0 \\end{bmatrix}\n",
    "=\n",
    "\\begin{bmatrix} \\class{_sq-amp0}{1} \\\\ \\class{_sq-amp1}{1} \\end{bmatrix}\n",
    "$$\n",
    "\n",
    "and the total probabilities add to two, which doesn't make any sense. Alternatively, if it acted on the state $|1\\rangle$, then the total probabilities would add up to zero, which also doesn't make sense. To preserve the total probability in all cases, our operations need to be reversible. This means we can perform our quantum gates backwards to 'undo' them (remembering to reverse any rotations) and be left with the state we started with. We say matrices with this property are _unitary_. You will often see quantum gates referred to as 'unitaries' or 'unitary gates'."
   ]
  }
 ],
 "metadata": {
  "kernelspec": {
   "display_name": "Python 3",
   "language": "python",
   "name": "python3"
  },
  "language_info": {
   "codemirror_mode": {
    "name": "ipython",
    "version": 3
   },
   "file_extension": ".py",
   "mimetype": "text/x-python",
   "name": "python",
   "nbconvert_exporter": "python",
   "pygments_lexer": "ipython3",
   "version": "3.9"
  }
 },
 "nbformat": 4,
 "nbformat_minor": 4
}
