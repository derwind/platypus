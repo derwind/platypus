{
 "cells": [
  {
   "cell_type": "markdown",
   "metadata": {},
   "source": [
    "# 計算の原子"
   ]
  },
  {
   "cell_type": "markdown",
   "metadata": {
    "gloss": {
     "power": {
      "text": "See <a href='https://en.wikipedia.org/wiki/Exponentiation'>exponentiation</a>",
      "title": "Power"
     },
     "quantum-mechanics": {
      "text": "Quantum mechanics is a more accurate model of the universe than the one we usually use, you’ll learn more about it on the next page.",
      "title": "Quantum mechanics"
     },
     "string": {
      "text": "In computing, we call sequences of characters \"strings\".",
      "title": "String"
     }
    }
   },
   "source": [
    "## イントロダクション\n",
    "\n",
    "量子コンピューターのプログラミングは、今や誰もが自宅にいながらできるようになりました。でも、何を作れば良いのでしょう？量子プログラムって何でしょう？そもそも量子コンピューターって何？\n",
    "\n",
    "これらの疑問は、従来のデジタルコンピューターと比較することで解決することができます。しかし、残念ながら、ほとんどの人は、従来のデジタルコンピューターの仕組みも実は理解していないのです。このページでは、このような伝統的なデバイスの基本原理を見ていきます。また、後に量子コンピューターに移行する際に役立つように、量子コンピューターで使うのと同じツールを使って行います。\n",
    "\n",
    "\n",
    "## 情報をビットに分割する \n",
    "\n",
    "まず知っておかなければならないのは、「ビット」という概念です。これは世界で最も単純なアルファベットとして設計されています。0と1という2つの記号だけで、あらゆる情報を表現することができるのです。\n",
    "\n",
    "その一例が数字です。皆さんは、0, 1, 2, 3, 4, 5, 6, 7, 8, 9の10個の数字の[文字列](gloss:string)で数字を表すことに慣れていることでしょう。この数字の文字列では、各桁が、ある10の[べき乗](gloss:power)を何回含んでいるかを表します。例えば、213と書くと、次のような意味になります。\n",
    "\n",
    "$$ 200+10+3 $$\n",
    "\n",
    "または、10の位を強調するような表現で\n",
    "\n",
    "$$ (2×10^2)+(1×10^1)+(3×10^0) $$\n",
    "\n",
    "私たちは通常、10という数字に基づいてこのシステムを使用しますが、他の数字に基づいても同様に簡単に使用することができます。例えば、2進法は2という数字に基づいています。つまり、0と1の2つの文字を使って、2のべき乗の倍数で数を表現するのです。例えば、213は11010101になります。何故かといえば\n",
    "\n",
    "$$ \n",
    "\\begin{aligned}\n",
    "213 = & \\phantom{+}(1×2^7)+(1×2^6)+(0×2^5)\\\\\n",
    "       & +(1×2^4)+(0×2^3)+(1×2^2)\\\\\n",
    "       & +(0×2^1)+(1×2^0) \\\\\n",
    "\\end{aligned}\n",
    "$$\n",
    "\n",
    "これは、10、100、1000などの代わりに2, 4, 8, 16, 32などの倍数で数を表現しているのです。\n",
    "\n",
    "\n",
    "<!-- ::: q-block.binary -->\n",
    "\n",
    "### 試してみよう\n",
    "\n",
    "    q-binary\n",
    "\n",
    "<!-- ::: -->\n",
    "\n",
    "&nbsp;\n",
    "\n",
    "\n",
    "このビットの文字列はバイナリー文字列と呼ばれ、数字以外の表現にも利用できます。例えば、ビットを使って任意のテキストを表現する方法があります。どんな文字、数字、約物でも、[この表](https://www.ibm.com/docs/en/aix/7.2?topic=adapters-ascii-decimal-hexadecimal-octal-binary-conversion-table)を使えば、対応する最大8ビットの文字列を見つけることができます。これらはかなり恣意的なものですが、これは広く合意された標準です。実際、この記事をインターネットを通じてあなたに送信するために使用されたものです。\n",
    "\n",
    "従来のコンピューターでは、すべての情報はこのように表現されていました。数字も文字も画像も音声も、すべてバイナリー文字列の形で存在します。\n",
    "\n",
    "量子コンピューターは、通常のデジタルコンピューターと同様に、この基本的な考え方に基づいたものです。主な違いは、ビットを[量子力学](gloss:quantum-mechanics)に拡張した「量子ビット」を使用することです。この教科書の残りの部分では、量子ビットが何であるか、何ができるか、そしてどのようにそれを行うかについて調べます。しかし、この項では、量子の話は全くしません。つまり、量子ビットをビットと同じように使うだけです。\n",
    "\n",
    "<!-- ::: q-block.exercise -->\n",
    "\n",
    "### クイッククイズ\n",
    "\n",
    "<!-- ::: q-quiz(goal=\"intro-aoc-1\") -->\n",
    "\n",
    "<!-- ::: .question -->\n",
    "\n",
    "$n$個のビットがあれば、何種類の数字を書き出すことができるか？\n",
    "\n",
    "<!-- ::: -->\n",
    "\n",
    "<!-- ::: .option -->\n",
    "\n",
    "1. $n$\n",
    "\n",
    "<!-- ::: -->\n",
    "\n",
    "<!-- ::: .option -->\n",
    "\n",
    "2. $n^2$\n",
    "\n",
    "<!-- ::: -->\n",
    "\n",
    "<!-- ::: .option(correct) -->\n",
    "\n",
    "3. $2^n$\n",
    "\n",
    "<!-- ::: -->\n",
    "\n",
    "<!-- ::: -->\n",
    "\n",
    "<!-- ::: -->"
   ]
  },
  {
   "cell_type": "markdown",
   "metadata": {},
   "source": [
    "## 回路図\n",
    "\n",
    "前ページで、計算とは入力データを受け取り、それに対して演算を行い、出力データを生成するものであることを見ました。このテキストブックで学ぶ量子コンピューターでは、このデータは常にビットの形をしています。ビットが何であるかが分かったところで、ビットをどのように操作すれば、入力データを必要な出力データに変換できるかを見てみましょう。\n",
    "\n",
    "この処理を「回路図」と呼ばれる図式で表すと便利なことが多いです。回路図は、左側が入力、右側が出力で、その間に難解な記号で表された演算があります。これらの演算を「ゲート」と呼ぶのは、主に歴史的な理由によるものです。以下は、標準的なビットベースのコンピューターの回路図の例です。この回路が何をするのか理解することは期待されていません。このような回路がどのようなものかを理解するのに役立つはずです。\n",
    "\n",
    "![古典回路図の例](images/aoc/logic_gates.png)\n",
    "\n",
    "量子コンピューターでは、基本的な考え方は同じですが、入力、出力、演算に使う記号の表し方が異なります。以下は、上記と同じ処理を表す「量子回路」です。\n",
    "\n",
    "![量子回路図の例](images/aoc/quantum_circuit.png)\n",
    "\n",
    "この後の章では、量子回路の作り方を説明します。最後に、上記の回路の作り方、その機能、そしてなぜそれが有用なのかが分かるようになります。"
   ]
  },
  {
   "cell_type": "markdown",
   "metadata": {
    "gloss": {
     "python": {
      "text": "Python is a programming language. We can use it to write instructions and algorithms for computers to follow. <a href='https://www.python.org/'>Read more</a>.",
      "title": "Python"
     }
    }
   },
   "source": [
    "## Qiskitで回路を作成する\n",
    "\n",
    "量子回路を作成するために、<code>QuantumCircuit</code>クラスをインポートし、新しい<code>QuantumCircuit</code>オブジェクトを作成することになります。\n",
    "\n",
    "<!-- ::: q-block.reminder -->\n",
    "\n",
    "### 備考\n",
    "\n",
    "<details>\n",
    "    <summary>Pythonの基本（クラスとオブジェクトって何？）</summary>\n",
    "    \n",
    "コンピューターは、量子回路も含め、あらゆる情報をビットの集まりで表現できることが分かっています。しかし、私たち人間にとって、どのようにこれを行うか、どのようにビットを操作して私たちが望む回路を表現するかを考えるのは難しいことです。\n",
    "\n",
    "<code>QuantumCircuit</code>クラスは量子回路をビットで表現するための命令セットです。<code>qc = QuantumCircuit(4, 2)</code>という行はコンストラクターで、Pythonに量子回路を表現するためのビットをコンピューターに確保するように指示します。この量子回路（或は、量子回路を表すビット）を参照したいときは、「<code>qc</code>」という変数を使います。「<code>qc</code>」は「<code>QuantumCircuit</code>オブジェクト」を指すと言うことにします。\n",
    "\n",
    "これにより、私たち人間は、量子回路を高い抽象度で考えることができるようになりました。「Xゲートを追加してください」と言えば、その変更を反映させるためにコンピューターのビットに何をすべきかをQiskitが処理してくれるのです。\n",
    "\n",
    "</details>\n",
    "\n",
    "<!-- ::: -->\n",
    "\n",
    "量子回路を作成する際、[Python](gloss:python)に量子ビットの数の数を指示する必要があります。また、オプションとして、回路が持つべき古典ビットの数を指定することができます。古典ビットは量子ビットの測定値を保存するために必要です。その理由はこのコースの後半で明らかになります。\n",
    "\n",
    "## はじめての量子回路\n",
    "\n",
    "回路では、通常3つの仕事をする必要があります。まず、入力をエンコードし、次に実際の計算を行い、最後に出力を取り出します。最初の量子回路では、このうち最後の仕事に焦点を当てます。まず、3つの量子ビットと3つの出力からなる量子回路を作成します。"
   ]
  },
  {
   "cell_type": "code",
   "execution_count": 1,
   "metadata": {},
   "outputs": [
    {
     "data": {
      "image/svg+xml": [
       "<?xml version=\"1.0\" encoding=\"UTF-8\"?><!DOCTYPE svg  PUBLIC '-//W3C//DTD SVG 1.1//EN'  'http://www.w3.org/Graphics/SVG/1.1/DTD/svg11.dtd'><svg width=\"102.51pt\" height=\"214.38pt\" version=\"1.1\" viewBox=\"0 0 102.51 214.38\" xmlns=\"http://www.w3.org/2000/svg\" xmlns:xlink=\"http://www.w3.org/1999/xlink\"><defs><style type=\"text/css\">*{stroke-linecap:butt;stroke-linejoin:round;}</style></defs><path d=\"m0 214.38h102.51v-214.38h-102.51z\" fill=\"#ffffff\"/><path d=\"m63.491 43.561h27.271\" clip-path=\"url(#pf38a690a76)\" fill=\"none\" stroke=\"#000000\" stroke-linecap=\"square\" stroke-width=\"2\"/><path d=\"m63.491 89.012h27.271\" clip-path=\"url(#pf38a690a76)\" fill=\"none\" stroke=\"#000000\" stroke-linecap=\"square\" stroke-width=\"2\"/><path d=\"m63.491 134.46h27.271\" clip-path=\"url(#pf38a690a76)\" fill=\"none\" stroke=\"#000000\" stroke-linecap=\"square\" stroke-width=\"2\"/><path d=\"m63.491 178.44h27.271\" clip-path=\"url(#pf38a690a76)\" fill=\"none\" stroke=\"#778899\" stroke-linecap=\"square\" stroke-width=\"2\"/><path d=\"m63.491 181.39h27.271\" clip-path=\"url(#pf38a690a76)\" fill=\"none\" stroke=\"#778899\" stroke-linecap=\"square\" stroke-width=\"2\"/><path d=\"m72.581 184.46 4.5451-9.0902\" clip-path=\"url(#pf38a690a76)\" fill=\"none\" stroke=\"#778899\" stroke-linecap=\"square\" stroke-width=\"1.5\"/><g clip-path=\"url(#pf38a690a76)\"><g transform=\"translate(36.363 48.012) scale(.1625 -.1625)\"><defs><path id=\"DejaVuSans-Oblique-71\" transform=\"scale(.015625)\" d=\"m2669 525q-231-303-546-460-314-156-695-156-531 0-833 358-301 358-301 986 0 506 186 978t533 847q225 244 517 375t614 131q387 0 637-153t363-462l100 525h578l-934-4813h-579l360 1844zm-1778 813q0-463 193-705 194-242 560-242 544 0 928 520t384 1264q0 450-199 689-198 239-569 239-272 0-504-127-231-126-403-370-181-256-286-600-104-343-104-668z\"/><path id=\"DejaVuSans-30\" transform=\"scale(.015625)\" d=\"m2034 4250q-487 0-733-480-245-479-245-1442 0-959 245-1439 246-480 733-480 491 0 736 480 246 480 246 1439 0 963-246 1442-245 480-736 480zm0 500q785 0 1199-621 414-620 414-1801 0-1178-414-1799-414-620-1199-620-784 0-1198 620-414 621-414 1799 0 1181 414 1801 414 621 1198 621z\"/></defs><use xlink:href=\"#DejaVuSans-Oblique-71\"/><use transform=\"translate(63.477 -16.406) scale(.7)\" xlink:href=\"#DejaVuSans-30\"/></g></g><g clip-path=\"url(#pf38a690a76)\"><g transform=\"translate(36.363 93.463) scale(.1625 -.1625)\"><defs><path id=\"DejaVuSans-31\" transform=\"scale(.015625)\" d=\"m794 531h1031v3560l-1122-225v575l1116 225h631v-4135h1031v-531h-2687v531z\"/></defs><use xlink:href=\"#DejaVuSans-Oblique-71\"/><use transform=\"translate(63.477 -16.406) scale(.7)\" xlink:href=\"#DejaVuSans-31\"/></g></g><g clip-path=\"url(#pf38a690a76)\"><g transform=\"translate(36.363 138.91) scale(.1625 -.1625)\"><defs><path id=\"DejaVuSans-32\" transform=\"scale(.015625)\" d=\"m1228 531h2203v-531h-2962v531q359 372 979 998 621 627 780 809 303 340 423 576 121 236 121 464 0 372-261 606-261 235-680 235-297 0-627-103-329-103-704-313v638q381 153 712 231 332 78 607 78 725 0 1156-363 431-362 431-968 0-288-108-546-107-257-392-607-78-91-497-524-418-433-1181-1211z\"/></defs><use xlink:href=\"#DejaVuSans-Oblique-71\"/><use transform=\"translate(63.477 -16.406) scale(.7)\" xlink:href=\"#DejaVuSans-32\"/></g></g><g clip-path=\"url(#pf38a690a76)\"><g transform=\"translate(68.036 173.21) scale(.104 -.104)\"><defs><path id=\"DejaVuSans-33\" transform=\"scale(.015625)\" d=\"m2597 2516q453-97 707-404 255-306 255-756 0-690-475-1069-475-378-1350-378-293 0-604 58t-642 174v609q262-153 574-231 313-78 654-78 593 0 904 234t311 681q0 413-289 645-289 233-804 233h-544v519h569q465 0 712 186t247 536q0 359-255 551-254 193-729 193-260 0-557-57-297-56-653-174v562q360 100 674 150t592 50q719 0 1137-327 419-326 419-882 0-388-222-655t-631-370z\"/></defs><use xlink:href=\"#DejaVuSans-33\"/></g></g><g clip-path=\"url(#pf38a690a76)\"><g transform=\"translate(45.466 184.4) scale(.1625 -.1625)\"><defs><path id=\"DejaVuSans-63\" transform=\"scale(.015625)\" d=\"m3122 3366v-538q-244 135-489 202t-495 67q-560 0-870-355-309-354-309-995t309-996q310-354 870-354 250 0 495 67t489 202v-532q-241-112-499-168-257-57-548-57-791 0-1257 497-465 497-465 1341 0 856 470 1346 471 491 1290 491 265 0 518-55 253-54 491-163z\"/></defs><use xlink:href=\"#DejaVuSans-63\"/></g></g><defs><clipPath id=\"pf38a690a76\"><rect x=\"7.2\" y=\"7.2\" width=\"88.107\" height=\"199.98\"/></clipPath></defs></svg>"
      ],
      "text/plain": [
       "<Figure size 116.697x264.88 with 1 Axes>"
      ]
     },
     "execution_count": 1,
     "metadata": {},
     "output_type": "execute_result"
    }
   ],
   "source": [
    "from qiskit import QuantumCircuit\n",
    "# Create quantum circuit with 3 qubits and 3 classical bits\n",
    "# (we'll explain why we need the classical bits later)\n",
    "qc = QuantumCircuit(3, 3)\n",
    "qc.draw()  # returns a drawing of the circuit"
   ]
  },
  {
   "cell_type": "markdown",
   "metadata": {
    "gloss": {
     "return": {
      "text": "Return is another word for 'output'. In Python, we can use returned data as input to another function or process.",
      "title": "Return"
     }
    }
   },
   "source": [
    "最後に<code>qc.draw()</code>メソッドは私たちのために回路の図面を作成してくれます。Jupyter Notebookはコードのセルの最終行を評価し、セルの下に表示します。<code>qc.draw()</code>は図面を[返す](gloss:return)ので、コードの下に表示されるのは図面です。この回路にはまだゲートがないので、いくつかの水平線が見えるだけです。\n",
    "\n",
    "<!-- ::: q-block.reminder -->\n",
    "\n",
    "### 備考\n",
    "\n",
    "<details>\n",
    "    <summary>Pythonの基本（メソッドって何？）</summary>\n",
    "    <code>QuantumCircuit</code>クラスは量子回路をビットで表現するための命令セットですが、これらの回路の1つを変更したいとき、それに応じてビットを変更する方法も知っておく必要があります。[Python](gloss:python)では、オブジェクトに「メソッド」が付属しており、これはそのオブジェクトに対して何かを行うための命令セットです。上のセルでは、<code>.draw()</code>メソッドは作成した回路を見て、その回路の人間が読める図面を作成します。\n",
    "    \n",
    "</details>\n",
    "\n",
    "<!-- ::: -->\n",
    "\n",
    "次に、量子コンピューターに量子ビットを測定させて、結果を記録するように指示する方法が必要です。これを行うには、量子回路に「measure」演算を追加します。これは`QuantumCircuit`の`.measure()`メソッドで行うことができます。"
   ]
  },
  {
   "cell_type": "code",
   "execution_count": 2,
   "metadata": {},
   "outputs": [
    {
     "data": {
      "image/svg+xml": [
       "<?xml version=\"1.0\" encoding=\"UTF-8\"?><!DOCTYPE svg  PUBLIC '-//W3C//DTD SVG 1.1//EN'  'http://www.w3.org/Graphics/SVG/1.1/DTD/svg11.dtd'><svg width=\"216.13pt\" height=\"214.38pt\" version=\"1.1\" viewBox=\"0 0 216.13 214.38\" xmlns=\"http://www.w3.org/2000/svg\" xmlns:xlink=\"http://www.w3.org/1999/xlink\"><defs><style type=\"text/css\">*{stroke-linecap:butt;stroke-linejoin:round;}</style></defs><path d=\"m0 214.38h216.13v-214.38h-216.13z\" fill=\"#ffffff\"/><path d=\"m82.126 169.57h11.817l-5.9086 8.5221z\" clip-path=\"url(#p87aeb7f2e4)\" fill=\"#778899\"/><path d=\"m127.58 169.57h11.817l-5.9086 8.5221z\" clip-path=\"url(#p87aeb7f2e4)\" fill=\"#778899\"/><path d=\"m173.03 169.57h11.817l-5.9086 8.5221z\" clip-path=\"url(#p87aeb7f2e4)\" fill=\"#778899\"/><path d=\"m63.491 43.561h140.9\" clip-path=\"url(#p87aeb7f2e4)\" fill=\"none\" stroke=\"#000000\" stroke-linecap=\"square\" stroke-width=\"2\"/><path d=\"m63.491 89.012h140.9\" clip-path=\"url(#p87aeb7f2e4)\" fill=\"none\" stroke=\"#000000\" stroke-linecap=\"square\" stroke-width=\"2\"/><path d=\"m63.491 134.46h140.9\" clip-path=\"url(#p87aeb7f2e4)\" fill=\"none\" stroke=\"#000000\" stroke-linecap=\"square\" stroke-width=\"2\"/><path d=\"m63.491 178.44h140.9\" clip-path=\"url(#p87aeb7f2e4)\" fill=\"none\" stroke=\"#778899\" stroke-linecap=\"square\" stroke-width=\"2\"/><path d=\"m63.491 181.39h140.9\" clip-path=\"url(#p87aeb7f2e4)\" fill=\"none\" stroke=\"#778899\" stroke-linecap=\"square\" stroke-width=\"2\"/><path d=\"m72.581 184.46 4.5451-9.0902\" clip-path=\"url(#p87aeb7f2e4)\" fill=\"none\" stroke=\"#778899\" stroke-linecap=\"square\" stroke-width=\"1.5\"/><path d=\"m89.512 43.561v126.01\" clip-path=\"url(#p87aeb7f2e4)\" fill=\"none\" stroke=\"#778899\" stroke-linecap=\"square\" stroke-width=\"2\"/><path d=\"m86.557 43.561v126.01\" clip-path=\"url(#p87aeb7f2e4)\" fill=\"none\" stroke=\"#778899\" stroke-linecap=\"square\" stroke-width=\"2\"/><path d=\"m134.96 89.012v80.562\" clip-path=\"url(#p87aeb7f2e4)\" fill=\"none\" stroke=\"#778899\" stroke-linecap=\"square\" stroke-width=\"2\"/><path d=\"m132.01 89.012v80.562\" clip-path=\"url(#p87aeb7f2e4)\" fill=\"none\" stroke=\"#778899\" stroke-linecap=\"square\" stroke-width=\"2\"/><path d=\"m180.41 134.46v35.111\" clip-path=\"url(#p87aeb7f2e4)\" fill=\"none\" stroke=\"#778899\" stroke-linecap=\"square\" stroke-width=\"2\"/><path d=\"m177.46 134.46v35.111\" clip-path=\"url(#p87aeb7f2e4)\" fill=\"none\" stroke=\"#778899\" stroke-linecap=\"square\" stroke-width=\"2\"/><path d=\"m73.263 58.332h29.543v-29.543h-29.543z\" clip-path=\"url(#p87aeb7f2e4)\" fill=\"#121619\" stroke=\"#121619\" stroke-width=\"1.5\"/><path d=\"m98.374 47.992c0-2.7413-1.0901-5.3732-3.0285-7.3116-1.9384-1.9384-4.5702-3.0285-7.3116-3.0285s-5.3732 1.0901-7.3116 3.0285c-1.9384 1.9384-3.0285 4.5702-3.0285 7.3116\" clip-path=\"url(#p87aeb7f2e4)\" fill=\"none\" stroke=\"#ffffff\" stroke-width=\"2\"/><path d=\"m118.71 103.78h29.543v-29.543h-29.543z\" clip-path=\"url(#p87aeb7f2e4)\" fill=\"#121619\" stroke=\"#121619\" stroke-width=\"1.5\"/><path d=\"m143.83 93.443c0-2.7413-1.0901-5.3732-3.0285-7.3116s-4.5702-3.0285-7.3116-3.0285c-2.7413 0-5.3732 1.0901-7.3116 3.0285s-3.0285 4.5702-3.0285 7.3116\" clip-path=\"url(#p87aeb7f2e4)\" fill=\"none\" stroke=\"#ffffff\" stroke-width=\"2\"/><path d=\"m164.16 149.23h29.543v-29.543h-29.543z\" clip-path=\"url(#p87aeb7f2e4)\" fill=\"#121619\" stroke=\"#121619\" stroke-width=\"1.5\"/><path d=\"m189.28 138.89c0-2.7413-1.0901-5.3732-3.0285-7.3116-1.9384-1.9384-4.5702-3.0285-7.3116-3.0285s-5.3732 1.0901-7.3116 3.0285c-1.9384 1.9384-3.0285 4.5702-3.0285 7.3116\" clip-path=\"url(#p87aeb7f2e4)\" fill=\"none\" stroke=\"#ffffff\" stroke-width=\"2\"/><path d=\"m88.034 47.992 10.34-10.34\" clip-path=\"url(#p87aeb7f2e4)\" fill=\"none\" stroke=\"#ffffff\" stroke-linecap=\"square\" stroke-width=\"2\"/><path d=\"m133.49 93.443 10.34-10.34\" clip-path=\"url(#p87aeb7f2e4)\" fill=\"none\" stroke=\"#ffffff\" stroke-linecap=\"square\" stroke-width=\"2\"/><path d=\"m178.94 138.89 10.34-10.34\" clip-path=\"url(#p87aeb7f2e4)\" fill=\"none\" stroke=\"#ffffff\" stroke-linecap=\"square\" stroke-width=\"2\"/><g clip-path=\"url(#p87aeb7f2e4)\"><g transform=\"translate(36.363 48.012) scale(.1625 -.1625)\"><defs><path id=\"DejaVuSans-Oblique-71\" transform=\"scale(.015625)\" d=\"m2669 525q-231-303-546-460-314-156-695-156-531 0-833 358-301 358-301 986 0 506 186 978t533 847q225 244 517 375t614 131q387 0 637-153t363-462l100 525h578l-934-4813h-579l360 1844zm-1778 813q0-463 193-705 194-242 560-242 544 0 928 520t384 1264q0 450-199 689-198 239-569 239-272 0-504-127-231-126-403-370-181-256-286-600-104-343-104-668z\"/><path id=\"DejaVuSans-30\" transform=\"scale(.015625)\" d=\"m2034 4250q-487 0-733-480-245-479-245-1442 0-959 245-1439 246-480 733-480 491 0 736 480 246 480 246 1439 0 963-246 1442-245 480-736 480zm0 500q785 0 1199-621 414-620 414-1801 0-1178-414-1799-414-620-1199-620-784 0-1198 620-414 621-414 1799 0 1181 414 1801 414 621 1198 621z\"/></defs><use xlink:href=\"#DejaVuSans-Oblique-71\"/><use transform=\"translate(63.477 -16.406) scale(.7)\" xlink:href=\"#DejaVuSans-30\"/></g></g><g clip-path=\"url(#p87aeb7f2e4)\"><g transform=\"translate(36.363 93.463) scale(.1625 -.1625)\"><defs><path id=\"DejaVuSans-31\" transform=\"scale(.015625)\" d=\"m794 531h1031v3560l-1122-225v575l1116 225h631v-4135h1031v-531h-2687v531z\"/></defs><use xlink:href=\"#DejaVuSans-Oblique-71\"/><use transform=\"translate(63.477 -16.406) scale(.7)\" xlink:href=\"#DejaVuSans-31\"/></g></g><g clip-path=\"url(#p87aeb7f2e4)\"><g transform=\"translate(36.363 138.91) scale(.1625 -.1625)\"><defs><path id=\"DejaVuSans-32\" transform=\"scale(.015625)\" d=\"m1228 531h2203v-531h-2962v531q359 372 979 998 621 627 780 809 303 340 423 576 121 236 121 464 0 372-261 606-261 235-680 235-297 0-627-103-329-103-704-313v638q381 153 712 231 332 78 607 78 725 0 1156-363 431-362 431-968 0-288-108-546-107-257-392-607-78-91-497-524-418-433-1181-1211z\"/></defs><use xlink:href=\"#DejaVuSans-Oblique-71\"/><use transform=\"translate(63.477 -16.406) scale(.7)\" xlink:href=\"#DejaVuSans-32\"/></g></g><g clip-path=\"url(#p87aeb7f2e4)\"><g transform=\"translate(68.036 173.21) scale(.104 -.104)\"><defs><path id=\"DejaVuSans-33\" transform=\"scale(.015625)\" d=\"m2597 2516q453-97 707-404 255-306 255-756 0-690-475-1069-475-378-1350-378-293 0-604 58t-642 174v609q262-153 574-231 313-78 654-78 593 0 904 234t311 681q0 413-289 645-289 233-804 233h-544v519h569q465 0 712 186t247 536q0 359-255 551-254 193-729 193-260 0-557-57-297-56-653-174v562q360 100 674 150t592 50q719 0 1137-327 419-326 419-882 0-388-222-655t-631-370z\"/></defs><use xlink:href=\"#DejaVuSans-33\"/></g></g><g clip-path=\"url(#p87aeb7f2e4)\"><g transform=\"translate(45.466 184.4) scale(.1625 -.1625)\"><defs><path id=\"DejaVuSans-63\" transform=\"scale(.015625)\" d=\"m3122 3366v-538q-244 135-489 202t-495 67q-560 0-870-355-309-354-309-995t309-996q310-354 870-354 250 0 495 67t489 202v-532q-241-112-499-168-257-57-548-57-791 0-1257 497-465 497-465 1341 0 856 470 1346 471 491 1290 491 265 0 518-55 253-54 491-163z\"/></defs><use xlink:href=\"#DejaVuSans-63\"/></g></g><g clip-path=\"url(#p87aeb7f2e4)\"><g transform=\"translate(99.397 173.21) scale(.104 -.104)\"><use xlink:href=\"#DejaVuSans-30\"/></g></g><g clip-path=\"url(#p87aeb7f2e4)\"><g transform=\"translate(144.85 173.21) scale(.104 -.104)\"><use xlink:href=\"#DejaVuSans-31\"/></g></g><g clip-path=\"url(#p87aeb7f2e4)\"><g transform=\"translate(190.3 173.21) scale(.104 -.104)\"><use xlink:href=\"#DejaVuSans-32\"/></g></g><defs><clipPath id=\"p87aeb7f2e4\"><rect x=\"7.2\" y=\"7.2\" width=\"201.73\" height=\"199.98\"/></clipPath></defs></svg>"
      ],
      "text/plain": [
       "<Figure size 267.197x264.88 with 1 Axes>"
      ]
     },
     "execution_count": 2,
     "metadata": {},
     "output_type": "execute_result"
    }
   ],
   "source": [
    "from qiskit import QuantumCircuit\n",
    "qc = QuantumCircuit(3, 3)\n",
    "# measure qubits 0, 1 & 2 to classical bits 0, 1 & 2 respectively\n",
    "qc.measure([0,1,2], [0,1,2])\n",
    "qc.draw()"
   ]
  },
  {
   "cell_type": "markdown",
   "metadata": {},
   "source": [
    "次に、この回路を実行するとどのような結果になるかを見てみましょう。そのためには、量子シミュレーターという、理想的な量子コンピューターが何をするのかを計算する標準的なコンピューターを使います。量子コンピュータのシミュレーションは、古典的なコンピューターでは困難とされているため（今ある最高のアルゴリズムは、量子ビットの数によって指数関数的に成長する）、量子ビットの数が少ない回路（最大30量子ビット）か、シミュレーションを高速化できる特定の種類の回路でのみ可能です。シミュレーターは、より小さな量子回路を設計するのに非常に有効なツールです。\n",
    "\n",
    "Qiskitの（Aerと呼ばれる）シミュレーターをインポートし、新しいシミュレーターオブジェクトを作りましょう。"
   ]
  },
  {
   "cell_type": "code",
   "execution_count": 3,
   "metadata": {},
   "outputs": [],
   "source": [
    "from qiskit.providers.aer import AerSimulator\n",
    "sim = AerSimulator()  # make new simulator object"
   ]
  },
  {
   "cell_type": "markdown",
   "metadata": {},
   "source": [
    "シミュレーションを行うには、シミュレーターの<code>.run()</code>メソッドを使用します。このメソッドは「ジョブ」を返します。ジョブは実験に関する情報、例えば実験が実行中か完了したか、どのバックエンドで実験を行ったか、そして私たちにとって重要なことですが、実験の結果がどうなったか、といった情報を含んでいます\n",
    "\n",
    "ジョブの結果を得るには、resultsメソッドを使います。resultsメソッドは、「counts」の辞書として表示するのが最も一般的な方法です。"
   ]
  },
  {
   "cell_type": "code",
   "execution_count": 4,
   "metadata": {},
   "outputs": [
    {
     "data": {
      "text/plain": [
       "{'000': 1024}"
      ]
     },
     "execution_count": 4,
     "metadata": {},
     "output_type": "execute_result"
    }
   ],
   "source": [
    "job = sim.run(qc)      # run the experiment\n",
    "result = job.result()  # get the results\n",
    "result.get_counts()    # interpret the results as a \"counts\" dictionary"
   ]
  },
  {
   "cell_type": "markdown",
   "metadata": {},
   "source": [
    "counts辞書のキーはビット列で、値はそのビットの文字列を測定した回数である。量子コンピューターは結果にランダム性があるため、何度か回路を繰り返すのが一般的です。この回路は1024回繰り返されましたが、これはQiskitのデフォルトの回路繰り返し回数です。慣習により、量子ビットは常に`0`の状態で始まり、測定前に何もしていないので、結果は常に`0`です。\n",
    "\n",
    "### 入力をエンコードする\n",
    "\n",
    "では、入力として異なるバイナリー文字列をエンコードする方法を見てみましょう。これには、NOTゲートと呼ばれるものが必要です。これは、コンピューターでできる最も基本的な操作です。量子ビットの場合は、「Xゲート」と呼ばれるゲートがこれにあたります。\n",
    "\n",
    "以下、エンコードに特化した回路を新たに作成します。"
   ]
  },
  {
   "cell_type": "code",
   "execution_count": 5,
   "metadata": {},
   "outputs": [
    {
     "data": {
      "image/svg+xml": [
       "<?xml version=\"1.0\" encoding=\"UTF-8\"?><!DOCTYPE svg  PUBLIC '-//W3C//DTD SVG 1.1//EN'  'http://www.w3.org/Graphics/SVG/1.1/DTD/svg11.dtd'><svg width=\"216.13pt\" height=\"214.38pt\" version=\"1.1\" viewBox=\"0 0 216.13 214.38\" xmlns=\"http://www.w3.org/2000/svg\" xmlns:xlink=\"http://www.w3.org/1999/xlink\"><defs><style type=\"text/css\">*{stroke-linecap:butt;stroke-linejoin:round;}</style></defs><path d=\"m0 214.38h216.13v-214.38h-216.13z\" fill=\"#ffffff\"/><path d=\"m82.126 169.57h11.817l-5.9086 8.5221z\" clip-path=\"url(#pcfac3d9fca)\" fill=\"#778899\"/><path d=\"m127.58 169.57h11.817l-5.9086 8.5221z\" clip-path=\"url(#pcfac3d9fca)\" fill=\"#778899\"/><path d=\"m173.03 169.57h11.817l-5.9086 8.5221z\" clip-path=\"url(#pcfac3d9fca)\" fill=\"#778899\"/><path d=\"m63.491 43.561h140.9\" clip-path=\"url(#pcfac3d9fca)\" fill=\"none\" stroke=\"#000000\" stroke-linecap=\"square\" stroke-width=\"2\"/><path d=\"m63.491 89.012h140.9\" clip-path=\"url(#pcfac3d9fca)\" fill=\"none\" stroke=\"#000000\" stroke-linecap=\"square\" stroke-width=\"2\"/><path d=\"m63.491 134.46h140.9\" clip-path=\"url(#pcfac3d9fca)\" fill=\"none\" stroke=\"#000000\" stroke-linecap=\"square\" stroke-width=\"2\"/><path d=\"m63.491 178.44h140.9\" clip-path=\"url(#pcfac3d9fca)\" fill=\"none\" stroke=\"#778899\" stroke-linecap=\"square\" stroke-width=\"2\"/><path d=\"m63.491 181.39h140.9\" clip-path=\"url(#pcfac3d9fca)\" fill=\"none\" stroke=\"#778899\" stroke-linecap=\"square\" stroke-width=\"2\"/><path d=\"m72.581 184.46 4.5451-9.0902\" clip-path=\"url(#pcfac3d9fca)\" fill=\"none\" stroke=\"#778899\" stroke-linecap=\"square\" stroke-width=\"1.5\"/><path d=\"m89.512 134.46v35.111\" clip-path=\"url(#pcfac3d9fca)\" fill=\"none\" stroke=\"#778899\" stroke-linecap=\"square\" stroke-width=\"2\"/><path d=\"m86.557 134.46v35.111\" clip-path=\"url(#pcfac3d9fca)\" fill=\"none\" stroke=\"#778899\" stroke-linecap=\"square\" stroke-width=\"2\"/><path d=\"m134.96 43.561v126.01\" clip-path=\"url(#pcfac3d9fca)\" fill=\"none\" stroke=\"#778899\" stroke-linecap=\"square\" stroke-width=\"2\"/><path d=\"m132.01 43.561v126.01\" clip-path=\"url(#pcfac3d9fca)\" fill=\"none\" stroke=\"#778899\" stroke-linecap=\"square\" stroke-width=\"2\"/><path d=\"m180.41 89.012v80.562\" clip-path=\"url(#pcfac3d9fca)\" fill=\"none\" stroke=\"#778899\" stroke-linecap=\"square\" stroke-width=\"2\"/><path d=\"m177.46 89.012v80.562\" clip-path=\"url(#pcfac3d9fca)\" fill=\"none\" stroke=\"#778899\" stroke-linecap=\"square\" stroke-width=\"2\"/><path d=\"m73.263 58.332h29.543v-29.543h-29.543z\" clip-path=\"url(#pcfac3d9fca)\" fill=\"#005d5d\" stroke=\"#005d5d\" stroke-width=\"1.5\"/><path d=\"m73.263 103.78h29.543v-29.543h-29.543z\" clip-path=\"url(#pcfac3d9fca)\" fill=\"#005d5d\" stroke=\"#005d5d\" stroke-width=\"1.5\"/><path d=\"m73.263 149.23h29.543v-29.543h-29.543z\" clip-path=\"url(#pcfac3d9fca)\" fill=\"#121619\" stroke=\"#121619\" stroke-width=\"1.5\"/><path d=\"m98.374 138.89c0-2.7413-1.0901-5.3732-3.0285-7.3116-1.9384-1.9384-4.5702-3.0285-7.3116-3.0285s-5.3732 1.0901-7.3116 3.0285c-1.9384 1.9384-3.0285 4.5702-3.0285 7.3116\" clip-path=\"url(#pcfac3d9fca)\" fill=\"none\" stroke=\"#ffffff\" stroke-width=\"2\"/><path d=\"m118.71 58.332h29.543v-29.543h-29.543z\" clip-path=\"url(#pcfac3d9fca)\" fill=\"#121619\" stroke=\"#121619\" stroke-width=\"1.5\"/><path d=\"m143.83 47.992c0-2.7413-1.0901-5.3732-3.0285-7.3116-1.9384-1.9384-4.5702-3.0285-7.3116-3.0285-2.7413 0-5.3732 1.0901-7.3116 3.0285-1.9384 1.9384-3.0285 4.5702-3.0285 7.3116\" clip-path=\"url(#pcfac3d9fca)\" fill=\"none\" stroke=\"#ffffff\" stroke-width=\"2\"/><path d=\"m164.16 103.78h29.543v-29.543h-29.543z\" clip-path=\"url(#pcfac3d9fca)\" fill=\"#121619\" stroke=\"#121619\" stroke-width=\"1.5\"/><path d=\"m189.28 93.443c0-2.7413-1.0901-5.3732-3.0285-7.3116-1.9384-1.9384-4.5702-3.0285-7.3116-3.0285s-5.3732 1.0901-7.3116 3.0285c-1.9384 1.9384-3.0285 4.5702-3.0285 7.3116\" clip-path=\"url(#pcfac3d9fca)\" fill=\"none\" stroke=\"#ffffff\" stroke-width=\"2\"/><path d=\"m88.034 138.89 10.34-10.34\" clip-path=\"url(#pcfac3d9fca)\" fill=\"none\" stroke=\"#ffffff\" stroke-linecap=\"square\" stroke-width=\"2\"/><path d=\"m133.49 47.992 10.34-10.34\" clip-path=\"url(#pcfac3d9fca)\" fill=\"none\" stroke=\"#ffffff\" stroke-linecap=\"square\" stroke-width=\"2\"/><path d=\"m178.94 93.443 10.34-10.34\" clip-path=\"url(#pcfac3d9fca)\" fill=\"none\" stroke=\"#ffffff\" stroke-linecap=\"square\" stroke-width=\"2\"/><g clip-path=\"url(#pcfac3d9fca)\"><g transform=\"translate(36.363 48.012) scale(.1625 -.1625)\"><defs><path id=\"DejaVuSans-Oblique-71\" transform=\"scale(.015625)\" d=\"m2669 525q-231-303-546-460-314-156-695-156-531 0-833 358-301 358-301 986 0 506 186 978t533 847q225 244 517 375t614 131q387 0 637-153t363-462l100 525h578l-934-4813h-579l360 1844zm-1778 813q0-463 193-705 194-242 560-242 544 0 928 520t384 1264q0 450-199 689-198 239-569 239-272 0-504-127-231-126-403-370-181-256-286-600-104-343-104-668z\"/><path id=\"DejaVuSans-30\" transform=\"scale(.015625)\" d=\"m2034 4250q-487 0-733-480-245-479-245-1442 0-959 245-1439 246-480 733-480 491 0 736 480 246 480 246 1439 0 963-246 1442-245 480-736 480zm0 500q785 0 1199-621 414-620 414-1801 0-1178-414-1799-414-620-1199-620-784 0-1198 620-414 621-414 1799 0 1181 414 1801 414 621 1198 621z\"/></defs><use xlink:href=\"#DejaVuSans-Oblique-71\"/><use transform=\"translate(63.477 -16.406) scale(.7)\" xlink:href=\"#DejaVuSans-30\"/></g></g><g clip-path=\"url(#pcfac3d9fca)\"><g transform=\"translate(36.363 93.463) scale(.1625 -.1625)\"><defs><path id=\"DejaVuSans-31\" transform=\"scale(.015625)\" d=\"m794 531h1031v3560l-1122-225v575l1116 225h631v-4135h1031v-531h-2687v531z\"/></defs><use xlink:href=\"#DejaVuSans-Oblique-71\"/><use transform=\"translate(63.477 -16.406) scale(.7)\" xlink:href=\"#DejaVuSans-31\"/></g></g><g clip-path=\"url(#pcfac3d9fca)\"><g transform=\"translate(36.363 138.91) scale(.1625 -.1625)\"><defs><path id=\"DejaVuSans-32\" transform=\"scale(.015625)\" d=\"m1228 531h2203v-531h-2962v531q359 372 979 998 621 627 780 809 303 340 423 576 121 236 121 464 0 372-261 606-261 235-680 235-297 0-627-103-329-103-704-313v638q381 153 712 231 332 78 607 78 725 0 1156-363 431-362 431-968 0-288-108-546-107-257-392-607-78-91-497-524-418-433-1181-1211z\"/></defs><use xlink:href=\"#DejaVuSans-Oblique-71\"/><use transform=\"translate(63.477 -16.406) scale(.7)\" xlink:href=\"#DejaVuSans-32\"/></g></g><g clip-path=\"url(#pcfac3d9fca)\"><g transform=\"translate(68.036 173.21) scale(.104 -.104)\"><defs><path id=\"DejaVuSans-33\" transform=\"scale(.015625)\" d=\"m2597 2516q453-97 707-404 255-306 255-756 0-690-475-1069-475-378-1350-378-293 0-604 58t-642 174v609q262-153 574-231 313-78 654-78 593 0 904 234t311 681q0 413-289 645-289 233-804 233h-544v519h569q465 0 712 186t247 536q0 359-255 551-254 193-729 193-260 0-557-57-297-56-653-174v562q360 100 674 150t592 50q719 0 1137-327 419-326 419-882 0-388-222-655t-631-370z\"/></defs><use xlink:href=\"#DejaVuSans-33\"/></g></g><g clip-path=\"url(#pcfac3d9fca)\"><g transform=\"translate(45.466 184.4) scale(.1625 -.1625)\"><defs><path id=\"DejaVuSans-63\" transform=\"scale(.015625)\" d=\"m3122 3366v-538q-244 135-489 202t-495 67q-560 0-870-355-309-354-309-995t309-996q310-354 870-354 250 0 495 67t489 202v-532q-241-112-499-168-257-57-548-57-791 0-1257 497-465 497-465 1341 0 856 470 1346 471 491 1290 491 265 0 518-55 253-54 491-163z\"/></defs><use xlink:href=\"#DejaVuSans-63\"/></g></g><g clip-path=\"url(#pcfac3d9fca)\"><g transform=\"translate(83.582 47.148) scale(.13 -.13)\" fill=\"#ffffff\"><defs><path id=\"DejaVuSans-58\" transform=\"scale(.015625)\" d=\"m403 4666h678l1160-1735 1165 1735h678l-1500-2241 1600-2425h-678l-1312 1984-1322-1984h-681l1665 2491-1453 2175z\"/></defs><use xlink:href=\"#DejaVuSans-58\"/></g></g><g clip-path=\"url(#pcfac3d9fca)\"><g transform=\"translate(83.582 92.599) scale(.13 -.13)\" fill=\"#ffffff\"><use xlink:href=\"#DejaVuSans-58\"/></g></g><g clip-path=\"url(#pcfac3d9fca)\"><g transform=\"translate(99.397 173.21) scale(.104 -.104)\"><use xlink:href=\"#DejaVuSans-32\"/></g></g><g clip-path=\"url(#pcfac3d9fca)\"><g transform=\"translate(144.85 173.21) scale(.104 -.104)\"><use xlink:href=\"#DejaVuSans-30\"/></g></g><g clip-path=\"url(#pcfac3d9fca)\"><g transform=\"translate(190.3 173.21) scale(.104 -.104)\"><use xlink:href=\"#DejaVuSans-31\"/></g></g><defs><clipPath id=\"pcfac3d9fca\"><rect x=\"7.2\" y=\"7.2\" width=\"201.73\" height=\"199.98\"/></clipPath></defs></svg>"
      ],
      "text/plain": [
       "<Figure size 267.197x264.88 with 1 Axes>"
      ]
     },
     "execution_count": 5,
     "metadata": {},
     "output_type": "execute_result"
    }
   ],
   "source": [
    "# Create quantum circuit with 3 qubits and 3 classical bits:\n",
    "qc = QuantumCircuit(3, 3)\n",
    "qc.x([0,1])  # Perform X-gates on qubits 0 & 1\n",
    "qc.measure([0,1,2], [0,1,2])\n",
    "qc.draw()    # returns a drawing of the circuit"
   ]
  },
  {
   "cell_type": "markdown",
   "metadata": {},
   "source": [
    "そして、回路をシミュレートして結果を見てみましょう。"
   ]
  },
  {
   "cell_type": "code",
   "execution_count": 6,
   "metadata": {},
   "outputs": [
    {
     "data": {
      "text/plain": [
       "{'011': 1024}"
      ]
     },
     "execution_count": 6,
     "metadata": {},
     "output_type": "execute_result"
    }
   ],
   "source": [
    "job = sim.run(qc)      # run the experiment\n",
    "result = job.result()  # get the results\n",
    "result.get_counts()    # interpret the results as a \"counts\" dictionary"
   ]
  },
  {
   "cell_type": "markdown",
   "metadata": {},
   "source": [
    "<!-- ::: q-block.exercise -->\n",
    "\n",
    "### クイッククイズ\n",
    "\n",
    "<!-- ::: q-quiz(goal=\"intro-aoc-2\") -->\n",
    "\n",
    "<!-- ::: .question -->\n",
    "\n",
    "2進数の`011`は10進数で何であるか？\n",
    "\n",
    "<!-- ::: -->\n",
    "\n",
    "<!-- ::: .option -->\n",
    "\n",
    "1. 5\n",
    "\n",
    "<!-- ::: -->\n",
    "\n",
    "<!-- ::: .option -->\n",
    "\n",
    "2. 2\n",
    "\n",
    "<!-- ::: -->\n",
    "\n",
    "<!-- ::: .option(correct) -->\n",
    "\n",
    "3. 3\n",
    "\n",
    "<!-- ::: -->\n",
    "\n",
    "<!-- ::: -->\n",
    "\n",
    "上のコードを修正して、数字の6と4をエンコードする量子回路を作ってみよ。結果は予想通りか？\n",
    "\n",
    "<!-- ::: -->\n",
    "\n",
    "さて、コンピューターの中で情報をエンコードする方法はわかりました。次のステップは、情報を処理することです。エンコードした入力を、何か新しいことを教えてくれる出力に変えることです。\n",
    "\n",
    "## 足し算回路を作成する\n",
    "\n",
    "### どうやって足すかを思い出す\n",
    "\n",
    "入力を出力に変えることを見るには、解くべき問題が必要です。基本的な数学をやってみましょう。小学校では、大きな数学の問題を扱いやすい大きさに分解する方法を習ったはずです。例えば、この足し算の問題はどのように解くのでしょうか？\n",
    "\n",
    "<!-- ::: q-block -->\n",
    "\n",
    "### どうやって足すかを思い出す\n",
    "\n",
    "<!-- ::: q-carousel -->\n",
    "\n",
    "<!-- ::: div -->\n",
    "\n",
    "![image of addition](images/aoc/carousel/0/0.svg)\n",
    "\n",
    "どうすれば、このような問題を解決できるのでしょうか。このカルーセルをクリックしてみてください。\n",
    "\n",
    "<!-- ::: -->\n",
    "\n",
    "<!-- ::: div -->\n",
    "\n",
    "![image of addition](images/aoc/carousel/0/1.svg)\n",
    "\n",
    "右から左へ一桁ずつやっていくのも一つの手です。つまり、3+4から始めるのです。\n",
    "\n",
    "<!-- ::: -->\n",
    "\n",
    "<!-- ::: div -->\n",
    "\n",
    "![image of addition](images/aoc/carousel/0/2.svg)\n",
    "\n",
    "そして、次に1+5。\n",
    "\n",
    "<!-- ::: -->\n",
    "\n",
    "<!-- ::: div -->\n",
    "\n",
    "![image of addition](images/aoc/carousel/0/3.svg)\n",
    "\n",
    "次に2+8。\n",
    "\n",
    "<!-- ::: -->\n",
    "\n",
    "<!-- ::: div -->\n",
    "\n",
    "![image of addition](images/aoc/carousel/0/4.svg)\n",
    "\n",
    "最後に9+1+1となり、答えが出ます。\n",
    "\n",
    "<!-- ::: -->\n",
    "\n",
    "<!-- ::: -->\n",
    "\n",
    "<!-- ::: -->\n",
    "\n",
    "\n",
    "\n",
    "これは単純な足し算に過ぎないかもしれませんが、すべてのアルゴリズムの背後にある原理を実証しています。アルゴリズムが数学的な問題を解くために設計されているか、テキストや画像を処理するために設計されているかに関わらず、私たちは常に大きなタスクを小さく単純なステップに分解しています。\n",
    "\n",
    "コンピューターで実行するためには、アルゴリズムをできるだけ小さく、単純なステップにコンパイルする必要があります。どのようなものかというと、上の足し算の問題をもう一度、2進数でやってみましょう。\n",
    "\n",
    "<!-- ::: q-block -->\n",
    "\n",
    "### 2進数の足し算\n",
    "\n",
    "<!-- ::: q-carousel -->\n",
    "\n",
    "<!-- ::: div -->\n",
    "\n",
    "![image of addition](images/aoc/carousel/1/0.svg)\n",
    "\n",
    "2番目の数字には、左側に余分な0がたくさんあることに注意してください。これは、2つの文字列の長さを同じにするためのものです。\n",
    "\n",
    "<!-- ::: -->\n",
    "\n",
    "<!-- ::: div -->\n",
    "\n",
    "![image of addition](images/aoc/carousel/1/1.svg)\n",
    "\n",
    "最初の課題は、右の列の1+0を行うことです。2進数では、他の数体系と同様に、答えは1です。\n",
    "\n",
    "<!-- ::: -->\n",
    "\n",
    "<!-- ::: div -->\n",
    "\n",
    "![image of addition](images/aoc/carousel/1/2.svg)\n",
    "\n",
    "2列目の0+1についても同じ結果が得られます。\n",
    "\n",
    "<!-- ::: -->\n",
    "\n",
    "<!-- ::: div -->\n",
    "\n",
    "![image of addition](images/aoc/carousel/1/3.svg)\n",
    "\n",
    "次に、1+1です。ご存知のように、1+1=2です。2進数では、2は10と書くので、2ビットが必要です。つまり、10進数の10と同じように、1を繰り上げる必要があるのです。次の列では、1+1+1を計算する必要があります。これは、3つの数字を足すことになるので、コンピューターにとっては複雑な処理になります。\n",
    "\n",
    "<!-- ::: -->\n",
    "\n",
    "<!-- ::: div -->\n",
    "\n",
    "![image of addition](images/aoc/carousel/1/4.svg)\n",
    "\n",
    "しかし、もっと単純な演算に落とし込んで、2ビットの足し算だけで済ませることも可能です。この場合、最初の2つの1だけから始めることができます。\n",
    "\n",
    "<!-- ::: -->\n",
    "\n",
    "<!-- ::: div -->\n",
    "\n",
    "![image of addition](images/aoc/carousel/1/5.svg)\n",
    "\n",
    "この10を最後の1に足すのですが、これはいつものように列を順番に見ていく方法でできます。最終的な答えは、11（または3）です。\n",
    "\n",
    "<!-- ::: -->\n",
    "\n",
    "<!-- ::: div -->\n",
    "\n",
    "![image of addition](images/aoc/carousel/1/6.svg)\n",
    "\n",
    "さて、問題の続きに戻りましょう。答えが11なので、キャリービットがもう1つあります。つまり、ここで1+1+1をしなければならないのです。しかし、その方法はすでに知っているので、たいしたことではありません。\n",
    "\n",
    "<!-- ::: -->\n",
    "\n",
    "<!-- ::: div -->\n",
    "\n",
    "実は、ここまでで残っているものはすべて、すでにやり方を知っているものばかりです。なぜなら、すべてを2ビットの足し算に分解すると、計算が必要になるのは4つだけだからです。以下は、その4つの基本的な和です（一貫性を持たせるために、答えはすべて2ビットで書きます）。\n",
    "\n",
    "![image of addition](images/aoc/carousel/1/7.svg)\n",
    "\n",
    "これを半加算器といいます。もし私たちのコンピューターがこれを実装し、たくさん連鎖させることができれば、何でも足すことができます。\n",
    "\n",
    "<!-- ::: -->\n",
    "\n",
    "<!-- ::: -->\n",
    "\n",
    "<!-- ::: -->\n",
    "\n",
    "### 量子回路で足し算をする\n",
    "\n",
    "量子回路から半加算器を自作してみよう。この回路には、入力をエンコードする部分、アルゴリズムを実行する部分、結果を取り出す部分が含まれます。最初の部分は、新しい入力を使うたびに変更する必要がありますが、残りの部分は常に同じです。\n",
    "\n",
    "![outline of our adder circuit](images/aoc/half-adder.svg)\n",
    "\n",
    "足したい2つのビットは、量子ビット0と1にエンコードされています。上の例では、これらの量子ビットの両方に1がエンコードされているため、1+1の解を求めようとします。結果は2ビットの文字列となり、これを量子ビット2と3から読み取ります。あとは、真ん中の空白部分にある実際のプログラムを埋めるだけです。\n",
    "\n",
    "画像の破線は、回路の各パーツを区別するためのものです（もっと面白い使い方もありますが）。\n",
    "\n",
    "コンピューターの基本的な演算は論理ゲートと呼ばれます。私たちはすでにNOTゲートを使っていますが、これだけでは半加算器を作ることはできません。これでは、手計算で答えを出すしかありません。実際の計算をコンピューターにやってもらうためには、もっと強力なゲートが必要です。\n",
    "\n",
    "必要なものを確認するために、半加算器に必要なものをもう一度見てみましょう。\n",
    "\n",
    "![required operations of a half adder](images/aoc/half_adder_reqs.svg)\n",
    "\n",
    "これらの4つの答えの右端のビットは、足し合わせる2つのビットが同じか異なるかによって完全に決まります。0+0と1+1では、2つのビットが等しいので、答えの右端のビットは0となり、0+1と1+0では、異なるビットの値を足しているので、右端のビットは1になります。\n",
    "\n",
    "この部分を正しく理解するためには、2つのビットが異なるかどうかを判断できるものが必要です。従来、デジタル計算の分野では、これをXORゲートと呼びます。\n",
    "\n",
    "<table>\n",
    "<thead>\n",
    "  <tr>\n",
    "    <th>Input 1</th>\n",
    "    <th>Input 2</th>\n",
    "    <th>XOR Output</th>\n",
    "  </tr>\n",
    "</thead>\n",
    "<tbody>\n",
    "  <tr>\n",
    "    <td>0</td>\n",
    "    <td>0</td>\n",
    "    <td>0</td>\n",
    "  </tr>\n",
    "  <tr>\n",
    "    <td>0</td>\n",
    "    <td>1</td>\n",
    "    <td>1</td>\n",
    "  </tr>\n",
    "  <tr>\n",
    "    <td>1</td>\n",
    "    <td>0</td>\n",
    "    <td>1</td>\n",
    "  </tr>\n",
    "  <tr>\n",
    "    <td>1</td>\n",
    "    <td>1</td>\n",
    "    <td>0</td>\n",
    "  </tr>\n",
    "</tbody>\n",
    "</table>\n",
    "\n",
    "量子コンピューターでは、XORゲートの仕事は「制御NOTゲート」が担っています。かなり長い名前なので、通常は「CNOT」とだけ呼びます。回路図では、下の図のように描かれています。これは、量子ビットのペアに適用されます。一つは制御量子ビットとして働きます（これは小さな点がある方です）。もう一方はターゲット量子ビット（大きな丸と十字、ターゲットマークのようなもの）として機能します。\n",
    "\n",
    "![image of CNOT gate](images/aoc/cnot_xor.svg)\n",
    "\n",
    "Qiskitでは、`.cx()`メソッドを使って回路にCNOTを追加することができます。それが作用する2つの量子ビットの添字を引数として与える必要があります。以下はその例です。"
   ]
  },
  {
   "cell_type": "code",
   "execution_count": 7,
   "metadata": {},
   "outputs": [
    {
     "data": {
      "image/svg+xml": [
       "<?xml version=\"1.0\" encoding=\"UTF-8\"?><!DOCTYPE svg  PUBLIC '-//W3C//DTD SVG 1.1//EN'  'http://www.w3.org/Graphics/SVG/1.1/DTD/svg11.dtd'><svg width=\"261.48pt\" height=\"168.93pt\" version=\"1.1\" viewBox=\"0 0 261.48 168.93\" xmlns=\"http://www.w3.org/2000/svg\" xmlns:xlink=\"http://www.w3.org/1999/xlink\"><defs><style type=\"text/css\">*{stroke-linecap:butt;stroke-linejoin:round;}</style></defs><path d=\"m0 168.93h261.48v-168.93h-261.48z\" fill=\"#ffffff\"/><path d=\"m172.92 124.12h11.817l-5.9086 8.5221z\" clip-path=\"url(#p1477cbf34c)\" fill=\"#778899\"/><path d=\"m218.37 124.12h11.817l-5.9086 8.5221z\" clip-path=\"url(#p1477cbf34c)\" fill=\"#778899\"/><path d=\"m63.381 43.561h186.35\" clip-path=\"url(#p1477cbf34c)\" fill=\"none\" stroke=\"#000000\" stroke-linecap=\"square\" stroke-width=\"2\"/><path d=\"m63.381 89.012h186.35\" clip-path=\"url(#p1477cbf34c)\" fill=\"none\" stroke=\"#000000\" stroke-linecap=\"square\" stroke-width=\"2\"/><path d=\"m63.381 132.99h186.35\" clip-path=\"url(#p1477cbf34c)\" fill=\"none\" stroke=\"#778899\" stroke-linecap=\"square\" stroke-width=\"2\"/><path d=\"m63.381 135.94h186.35\" clip-path=\"url(#p1477cbf34c)\" fill=\"none\" stroke=\"#778899\" stroke-linecap=\"square\" stroke-width=\"2\"/><path d=\"m72.471 139.01 4.5451-9.0902\" clip-path=\"url(#p1477cbf34c)\" fill=\"none\" stroke=\"#778899\" stroke-linecap=\"square\" stroke-width=\"1.5\"/><path d=\"m133.38 89.012v-45.451\" clip-path=\"url(#p1477cbf34c)\" fill=\"none\" stroke=\"#1192e8\" stroke-linecap=\"square\" stroke-width=\"2\"/><path d=\"m180.3 43.561v80.562\" clip-path=\"url(#p1477cbf34c)\" fill=\"none\" stroke=\"#778899\" stroke-linecap=\"square\" stroke-width=\"2\"/><path d=\"m177.35 43.561v80.562\" clip-path=\"url(#p1477cbf34c)\" fill=\"none\" stroke=\"#778899\" stroke-linecap=\"square\" stroke-width=\"2\"/><path d=\"m225.75 89.012v35.111\" clip-path=\"url(#p1477cbf34c)\" fill=\"none\" stroke=\"#778899\" stroke-linecap=\"square\" stroke-width=\"2\"/><path d=\"m222.8 89.012v35.111\" clip-path=\"url(#p1477cbf34c)\" fill=\"none\" stroke=\"#778899\" stroke-linecap=\"square\" stroke-width=\"2\"/><path d=\"m73.153 58.332h29.543v-29.543h-29.543z\" clip-path=\"url(#p1477cbf34c)\" fill=\"#005d5d\" stroke=\"#005d5d\" stroke-width=\"1.5\"/><path d=\"m133.38 47.992c1.1752 0 2.3025-0.46693 3.1335-1.2979 0.83102-0.83102 1.2979-1.9583 1.2979-3.1335 0-1.1752-0.46693-2.3025-1.2979-3.1335-0.83102-0.83102-1.9583-1.2979-3.1335-1.2979-1.1752 0-2.3025 0.46693-3.1335 1.2979-0.83102 0.83102-1.2979 1.9583-1.2979 3.1335 0 1.1752 0.46693 2.3025 1.2979 3.1335 0.83102 0.83102 1.9583 1.2979 3.1335 1.2979z\" clip-path=\"url(#p1477cbf34c)\" fill=\"#1192e8\" stroke=\"#1192e8\" stroke-width=\"1.5\"/><path d=\"m133.38 99.352c2.7422 0 5.3725-1.0895 7.3116-3.0285 1.939-1.939 3.0285-4.5693 3.0285-7.3116s-1.0895-5.3725-3.0285-7.3116c-1.939-1.939-4.5693-3.0285-7.3116-3.0285-2.7422 0-5.3725 1.0895-7.3116 3.0285-1.939 1.939-3.0285 4.5693-3.0285 7.3116s1.0895 5.3725 3.0285 7.3116c1.939 1.939 4.5693 3.0285 7.3116 3.0285z\" clip-path=\"url(#p1477cbf34c)\" fill=\"#1192e8\" stroke=\"#1192e8\" stroke-width=\"2\"/><path d=\"m164.06 58.332h29.543v-29.543h-29.543z\" clip-path=\"url(#p1477cbf34c)\" fill=\"#121619\" stroke=\"#121619\" stroke-width=\"1.5\"/><path d=\"m189.17 47.992c0-2.7413-1.0901-5.3732-3.0285-7.3116-1.9384-1.9384-4.5702-3.0285-7.3116-3.0285s-5.3732 1.0901-7.3116 3.0285c-1.9384 1.9384-3.0285 4.5702-3.0285 7.3116\" clip-path=\"url(#p1477cbf34c)\" fill=\"none\" stroke=\"#ffffff\" stroke-width=\"2\"/><path d=\"m209.51 103.78h29.543v-29.543h-29.543z\" clip-path=\"url(#p1477cbf34c)\" fill=\"#121619\" stroke=\"#121619\" stroke-width=\"1.5\"/><path d=\"m234.62 93.443c0-2.7413-1.0901-5.3732-3.0285-7.3116-1.9384-1.9384-4.5702-3.0285-7.3116-3.0285s-5.3732 1.0901-7.3116 3.0285c-1.9384 1.9384-3.0285 4.5702-3.0285 7.3116\" clip-path=\"url(#p1477cbf34c)\" fill=\"none\" stroke=\"#ffffff\" stroke-width=\"2\"/><path d=\"m178.83 47.992 10.34-10.34\" clip-path=\"url(#p1477cbf34c)\" fill=\"none\" stroke=\"#ffffff\" stroke-linecap=\"square\" stroke-width=\"2\"/><path d=\"m224.28 93.443 10.34-10.34\" clip-path=\"url(#p1477cbf34c)\" fill=\"none\" stroke=\"#ffffff\" stroke-linecap=\"square\" stroke-width=\"2\"/><path d=\"m133.38 94.92v-11.817\" clip-path=\"url(#p1477cbf34c)\" fill=\"none\" stroke=\"#ffffff\" stroke-linecap=\"square\" stroke-width=\"2\"/><path d=\"m127.47 89.012h11.817\" clip-path=\"url(#p1477cbf34c)\" fill=\"none\" stroke=\"#ffffff\" stroke-linecap=\"square\" stroke-width=\"2\"/><g clip-path=\"url(#p1477cbf34c)\"><g transform=\"translate(36.253 48.012) scale(.1625 -.1625)\"><defs><path id=\"DejaVuSans-Oblique-71\" transform=\"scale(.015625)\" d=\"m2669 525q-231-303-546-460-314-156-695-156-531 0-833 358-301 358-301 986 0 506 186 978t533 847q225 244 517 375t614 131q387 0 637-153t363-462l100 525h578l-934-4813h-579l360 1844zm-1778 813q0-463 193-705 194-242 560-242 544 0 928 520t384 1264q0 450-199 689-198 239-569 239-272 0-504-127-231-126-403-370-181-256-286-600-104-343-104-668z\"/><path id=\"DejaVuSans-30\" transform=\"scale(.015625)\" d=\"m2034 4250q-487 0-733-480-245-479-245-1442 0-959 245-1439 246-480 733-480 491 0 736 480 246 480 246 1439 0 963-246 1442-245 480-736 480zm0 500q785 0 1199-621 414-620 414-1801 0-1178-414-1799-414-620-1199-620-784 0-1198 620-414 621-414 1799 0 1181 414 1801 414 621 1198 621z\"/></defs><use xlink:href=\"#DejaVuSans-Oblique-71\"/><use transform=\"translate(63.477 -16.406) scale(.7)\" xlink:href=\"#DejaVuSans-30\"/></g></g><g clip-path=\"url(#p1477cbf34c)\"><g transform=\"translate(36.253 93.463) scale(.1625 -.1625)\"><defs><path id=\"DejaVuSans-31\" transform=\"scale(.015625)\" d=\"m794 531h1031v3560l-1122-225v575l1116 225h631v-4135h1031v-531h-2687v531z\"/></defs><use xlink:href=\"#DejaVuSans-Oblique-71\"/><use transform=\"translate(63.477 -16.406) scale(.7)\" xlink:href=\"#DejaVuSans-31\"/></g></g><g clip-path=\"url(#p1477cbf34c)\"><g transform=\"translate(67.926 127.75) scale(.104 -.104)\"><defs><path id=\"DejaVuSans-32\" transform=\"scale(.015625)\" d=\"m1228 531h2203v-531h-2962v531q359 372 979 998 621 627 780 809 303 340 423 576 121 236 121 464 0 372-261 606-261 235-680 235-297 0-627-103-329-103-704-313v638q381 153 712 231 332 78 607 78 725 0 1156-363 431-362 431-968 0-288-108-546-107-257-392-607-78-91-497-524-418-433-1181-1211z\"/></defs><use xlink:href=\"#DejaVuSans-32\"/></g></g><g clip-path=\"url(#p1477cbf34c)\"><g transform=\"translate(45.356 138.95) scale(.1625 -.1625)\"><defs><path id=\"DejaVuSans-63\" transform=\"scale(.015625)\" d=\"m3122 3366v-538q-244 135-489 202t-495 67q-560 0-870-355-309-354-309-995t309-996q310-354 870-354 250 0 495 67t489 202v-532q-241-112-499-168-257-57-548-57-791 0-1257 497-465 497-465 1341 0 856 470 1346 471 491 1290 491 265 0 518-55 253-54 491-163z\"/></defs><use xlink:href=\"#DejaVuSans-63\"/></g></g><g clip-path=\"url(#p1477cbf34c)\"><g transform=\"translate(83.472 47.148) scale(.13 -.13)\" fill=\"#ffffff\"><defs><path id=\"DejaVuSans-58\" transform=\"scale(.015625)\" d=\"m403 4666h678l1160-1735 1165 1735h678l-1500-2241 1600-2425h-678l-1312 1984-1322-1984h-681l1665 2491-1453 2175z\"/></defs><use xlink:href=\"#DejaVuSans-58\"/></g></g><g clip-path=\"url(#p1477cbf34c)\"><g transform=\"translate(190.19 127.75) scale(.104 -.104)\"><use xlink:href=\"#DejaVuSans-30\"/></g></g><g clip-path=\"url(#p1477cbf34c)\"><g transform=\"translate(235.64 127.75) scale(.104 -.104)\"><use xlink:href=\"#DejaVuSans-31\"/></g></g><defs><clipPath id=\"p1477cbf34c\"><rect x=\"7.2\" y=\"7.2\" width=\"247.08\" height=\"154.53\"/></clipPath></defs></svg>"
      ],
      "text/plain": [
       "<Figure size 327.252x204.68 with 1 Axes>"
      ]
     },
     "metadata": {},
     "output_type": "display_data"
    },
    {
     "name": "stdout",
     "output_type": "stream",
     "text": [
      "Result:  {'11': 1024}\n"
     ]
    }
   ],
   "source": [
    "# Create quantum circuit with 2 qubits and 2 classical bits\n",
    "qc = QuantumCircuit(2, 2)\n",
    "qc.x(0)\n",
    "qc.cx(0,1)  # CNOT controlled by qubit 0 and targeting qubit 1\n",
    "qc.measure([0,1], [0,1])\n",
    "display(qc.draw())     # display a drawing of the circuit\n",
    "\n",
    "job = sim.run(qc)      # run the experiment\n",
    "result = job.result()  # get the results\n",
    "# interpret the results as a \"counts\" dictionary\n",
    "print(\"Result: \", result.get_counts())"
   ]
  },
  {
   "cell_type": "markdown",
   "metadata": {
    "gloss": {
     "Toffoli": {
      "text": "This gate is named after the scientist <a href='https://en.wikipedia.org/wiki/Tommaso_Toffoli'>Tommaso Toffoli</a>.",
      "title": "Toffoli gate"
     }
    }
   },
   "source": [
    "私たちの半加算器では、入力の1つを上書きしたくありません。その代わり、結果を別の量子ビットのペアに書きたいと思います。そのためには、2つのCNOTを使い、出力を新しい量子ビットに書き込めばよいのですが、この量子ビットは状態が0になることが分かっています。\n",
    "\n",
    "![circuit diagram of using two CNOTs to create an XOR gate](images/aoc/xor.svg)\n",
    "\n",
    "これで半加算器の完成まであと半分です。右端の出力ビットの計算方法はわかっているので、あとは左端の出力ビットをどう計算するかです。4つの和をもう一度見てみると、0でなく1になるケースが1つだけあることに気がつきます。これは、足し合わせるビットが両方とも1であるときだけ起こります。\n",
    "\n",
    "![required operations of a half adder](images/aoc/half_adder_reqs.svg)\n",
    "\n",
    "この部分を計算するために、コンピューターに両方の入力が1であるかどうかを調べさせることができます。もし両方が1であれば、そして両方が1である場合のみ、量子ビット3に対してNOTゲートを行う必要があります。そうすれば、この場合のみ必要な値である1に反転し、必要な出力が得られます。\n",
    "\n",
    "そのためには、新しいゲートが必要です。CNOTのようなものですが、1つではなく2つの量子ビットで制御されます。これは、両方の制御ビットが1であるときだけ、ターゲット量子ビットのNOTを実行します。この新しいゲートは、[Toffoli](gloss:toffoli)ゲートと呼ばれます。ブール論理ゲートに詳しい人のために説明すると、これは基本的にANDゲートです。\n",
    "\n",
    "![half adder quantum circuit](images/aoc/ha_circuit.svg)\n",
    "\n",
    "Qiskitでは、`.ccx()`メソッドを使ってこれを回路に追加することができます。そして完成です! 有名な数学の問題である1+1を計算する回路です。"
   ]
  },
  {
   "cell_type": "markdown",
   "metadata": {},
   "source": [
    "<!-- ::: q-block.exercise -->\n",
    "\n",
    "### 試してみよう\n",
    "\n",
    "ブロックを並べて、上の半加算器回路を生成するコードブロックを作成します。\n",
    "\n",
    "    q-drag-and-drop-code(goal=\"intro-aoc-3\")\n",
    "        .line from qiskit import QuantumCircuit\n",
    "        .line qc = QuantumCircuit(4, 2)\n",
    "        .line(group=0) qc.cx(0, 2)\n",
    "        .line(group=0) qc.cx(1, 2)\n",
    "        .line(group=0) qc.ccx(0, 1, 3) \n",
    "        .result-info\n",
    "\n",
    "<!-- ::: -->"
   ]
  },
  {
   "cell_type": "markdown",
   "metadata": {},
   "source": [
    "素晴らしい！さて、半加算器ができたので、次にやることは、それがうまくいくかどうかをチェックすることです。そのために、入力をエンコードして半加算器を適用し、出力を取り出す別の回路を作ります。"
   ]
  },
  {
   "cell_type": "code",
   "execution_count": 8,
   "metadata": {},
   "outputs": [
    {
     "data": {
      "image/svg+xml": [
       "<?xml version=\"1.0\" encoding=\"UTF-8\"?><!DOCTYPE svg  PUBLIC '-//W3C//DTD SVG 1.1//EN'  'http://www.w3.org/Graphics/SVG/1.1/DTD/svg11.dtd'><svg width=\"352.49pt\" height=\"259.84pt\" version=\"1.1\" viewBox=\"0 0 352.49 259.84\" xmlns=\"http://www.w3.org/2000/svg\" xmlns:xlink=\"http://www.w3.org/1999/xlink\"><defs><style type=\"text/css\">*{stroke-linecap:butt;stroke-linejoin:round;}</style></defs><path d=\"m0 259.84h352.49v-259.84h-352.49z\" fill=\"#ffffff\"/><path d=\"m263.93 215.02h11.817l-5.9086 8.5221z\" clip-path=\"url(#pc0339bf3e5)\" fill=\"#778899\"/><path d=\"m309.38 215.02h11.817l-5.9086 8.5221z\" clip-path=\"url(#pc0339bf3e5)\" fill=\"#778899\"/><path d=\"m63.491 43.561h277.25\" clip-path=\"url(#pc0339bf3e5)\" fill=\"none\" stroke=\"#000000\" stroke-linecap=\"square\" stroke-width=\"2\"/><path d=\"m63.491 89.012h277.25\" clip-path=\"url(#pc0339bf3e5)\" fill=\"none\" stroke=\"#000000\" stroke-linecap=\"square\" stroke-width=\"2\"/><path d=\"m63.491 134.46h277.25\" clip-path=\"url(#pc0339bf3e5)\" fill=\"none\" stroke=\"#000000\" stroke-linecap=\"square\" stroke-width=\"2\"/><path d=\"m63.491 179.91h277.25\" clip-path=\"url(#pc0339bf3e5)\" fill=\"none\" stroke=\"#000000\" stroke-linecap=\"square\" stroke-width=\"2\"/><path d=\"m63.491 223.89h277.25\" clip-path=\"url(#pc0339bf3e5)\" fill=\"none\" stroke=\"#778899\" stroke-linecap=\"square\" stroke-width=\"2\"/><path d=\"m63.491 226.84h277.25\" clip-path=\"url(#pc0339bf3e5)\" fill=\"none\" stroke=\"#778899\" stroke-linecap=\"square\" stroke-width=\"2\"/><path d=\"m72.581 229.91 4.5451-9.0902\" clip-path=\"url(#pc0339bf3e5)\" fill=\"none\" stroke=\"#778899\" stroke-linecap=\"square\" stroke-width=\"1.5\"/><path d=\"m133.49 134.46v-90.902\" clip-path=\"url(#pc0339bf3e5)\" fill=\"none\" stroke=\"#1192e8\" stroke-linecap=\"square\" stroke-width=\"2\"/><path d=\"m178.94 134.46v-45.451\" clip-path=\"url(#pc0339bf3e5)\" fill=\"none\" stroke=\"#1192e8\" stroke-linecap=\"square\" stroke-width=\"2\"/><path d=\"m224.39 179.91v-136.35\" clip-path=\"url(#pc0339bf3e5)\" fill=\"none\" stroke=\"#6929c4\" stroke-linecap=\"square\" stroke-width=\"2\"/><path d=\"m271.32 134.46v80.562\" clip-path=\"url(#pc0339bf3e5)\" fill=\"none\" stroke=\"#778899\" stroke-linecap=\"square\" stroke-width=\"2\"/><path d=\"m268.36 134.46v80.562\" clip-path=\"url(#pc0339bf3e5)\" fill=\"none\" stroke=\"#778899\" stroke-linecap=\"square\" stroke-width=\"2\"/><path d=\"m316.77 179.91v35.111\" clip-path=\"url(#pc0339bf3e5)\" fill=\"none\" stroke=\"#778899\" stroke-linecap=\"square\" stroke-width=\"2\"/><path d=\"m313.81 179.91v35.111\" clip-path=\"url(#pc0339bf3e5)\" fill=\"none\" stroke=\"#778899\" stroke-linecap=\"square\" stroke-width=\"2\"/><path d=\"m73.263 58.332h29.543v-29.543h-29.543z\" clip-path=\"url(#pc0339bf3e5)\" fill=\"#005d5d\" stroke=\"#005d5d\" stroke-width=\"1.5\"/><path d=\"m73.263 103.78h29.543v-29.543h-29.543z\" clip-path=\"url(#pc0339bf3e5)\" fill=\"#005d5d\" stroke=\"#005d5d\" stroke-width=\"1.5\"/><path d=\"m133.49 47.992c1.1752 0 2.3025-0.46693 3.1335-1.2979 0.83102-0.83102 1.2979-1.9583 1.2979-3.1335 0-1.1752-0.46693-2.3025-1.2979-3.1335-0.83102-0.83102-1.9583-1.2979-3.1335-1.2979-1.1752 0-2.3025 0.46693-3.1335 1.2979-0.83102 0.83102-1.2979 1.9583-1.2979 3.1335 0 1.1752 0.46693 2.3025 1.2979 3.1335 0.83102 0.83102 1.9583 1.2979 3.1335 1.2979z\" clip-path=\"url(#pc0339bf3e5)\" fill=\"#1192e8\" stroke=\"#1192e8\" stroke-width=\"1.5\"/><path d=\"m133.49 144.8c2.7422 0 5.3725-1.0895 7.3116-3.0285 1.939-1.939 3.0285-4.5693 3.0285-7.3116 0-2.7422-1.0895-5.3725-3.0285-7.3116-1.939-1.939-4.5693-3.0285-7.3116-3.0285-2.7422 0-5.3725 1.0895-7.3116 3.0285-1.939 1.939-3.0285 4.5693-3.0285 7.3116 0 2.7422 1.0895 5.3725 3.0285 7.3116 1.939 1.939 4.5693 3.0285 7.3116 3.0285z\" clip-path=\"url(#pc0339bf3e5)\" fill=\"#1192e8\" stroke=\"#1192e8\" stroke-width=\"2\"/><path d=\"m178.94 93.443c1.1752 0 2.3025-0.46693 3.1335-1.2979 0.83102-0.83102 1.2979-1.9583 1.2979-3.1335s-0.46693-2.3025-1.2979-3.1335c-0.83102-0.83102-1.9583-1.2979-3.1335-1.2979s-2.3025 0.46693-3.1335 1.2979c-0.83102 0.83102-1.2979 1.9583-1.2979 3.1335s0.46693 2.3025 1.2979 3.1335c0.83102 0.83102 1.9583 1.2979 3.1335 1.2979z\" clip-path=\"url(#pc0339bf3e5)\" fill=\"#1192e8\" stroke=\"#1192e8\" stroke-width=\"1.5\"/><path d=\"m178.94 144.8c2.7422 0 5.3725-1.0895 7.3116-3.0285 1.939-1.939 3.0285-4.5693 3.0285-7.3116 0-2.7422-1.0895-5.3725-3.0285-7.3116-1.939-1.939-4.5693-3.0285-7.3116-3.0285s-5.3725 1.0895-7.3116 3.0285c-1.939 1.939-3.0285 4.5693-3.0285 7.3116 0 2.7422 1.0895 5.3725 3.0285 7.3116 1.939 1.939 4.5693 3.0285 7.3116 3.0285z\" clip-path=\"url(#pc0339bf3e5)\" fill=\"#1192e8\" stroke=\"#1192e8\" stroke-width=\"2\"/><path d=\"m224.39 47.992c1.1752 0 2.3025-0.46693 3.1335-1.2979 0.83102-0.83102 1.2979-1.9583 1.2979-3.1335 0-1.1752-0.46693-2.3025-1.2979-3.1335-0.83102-0.83102-1.9583-1.2979-3.1335-1.2979-1.1752 0-2.3025 0.46693-3.1335 1.2979-0.83102 0.83102-1.2979 1.9583-1.2979 3.1335 0 1.1752 0.46693 2.3025 1.2979 3.1335 0.83102 0.83102 1.9583 1.2979 3.1335 1.2979z\" clip-path=\"url(#pc0339bf3e5)\" fill=\"#6929c4\" stroke=\"#6929c4\" stroke-width=\"1.5\"/><path d=\"m224.39 93.443c1.1752 0 2.3025-0.46693 3.1335-1.2979 0.83102-0.83102 1.2979-1.9583 1.2979-3.1335s-0.46693-2.3025-1.2979-3.1335c-0.83102-0.83102-1.9583-1.2979-3.1335-1.2979-1.1752 0-2.3025 0.46693-3.1335 1.2979-0.83102 0.83102-1.2979 1.9583-1.2979 3.1335s0.46693 2.3025 1.2979 3.1335 1.9583 1.2979 3.1335 1.2979z\" clip-path=\"url(#pc0339bf3e5)\" fill=\"#6929c4\" stroke=\"#6929c4\" stroke-width=\"1.5\"/><path d=\"m224.39 190.25c2.7422 0 5.3725-1.0895 7.3116-3.0285 1.939-1.939 3.0285-4.5693 3.0285-7.3116s-1.0895-5.3725-3.0285-7.3116c-1.939-1.939-4.5693-3.0285-7.3116-3.0285-2.7422 0-5.3725 1.0895-7.3116 3.0285-1.939 1.939-3.0285 4.5693-3.0285 7.3116s1.0895 5.3725 3.0285 7.3116c1.939 1.939 4.5693 3.0285 7.3116 3.0285z\" clip-path=\"url(#pc0339bf3e5)\" fill=\"#6929c4\" stroke=\"#6929c4\" stroke-width=\"2\"/><path d=\"m255.07 149.23h29.543v-29.543h-29.543z\" clip-path=\"url(#pc0339bf3e5)\" fill=\"#121619\" stroke=\"#121619\" stroke-width=\"1.5\"/><path d=\"m280.18 138.89c0-2.7413-1.0901-5.3732-3.0285-7.3116-1.9384-1.9384-4.5702-3.0285-7.3116-3.0285s-5.3732 1.0901-7.3116 3.0285c-1.9384 1.9384-3.0285 4.5702-3.0285 7.3116\" clip-path=\"url(#pc0339bf3e5)\" fill=\"none\" stroke=\"#ffffff\" stroke-width=\"2\"/><path d=\"m300.52 194.69h29.543v-29.543h-29.543z\" clip-path=\"url(#pc0339bf3e5)\" fill=\"#121619\" stroke=\"#121619\" stroke-width=\"1.5\"/><path d=\"m325.63 184.35c0-2.7413-1.0901-5.3732-3.0285-7.3116-1.9384-1.9384-4.5702-3.0285-7.3116-3.0285s-5.3732 1.0901-7.3116 3.0285c-1.9384 1.9384-3.0285 4.5702-3.0285 7.3116\" clip-path=\"url(#pc0339bf3e5)\" fill=\"none\" stroke=\"#ffffff\" stroke-width=\"2\"/><path d=\"m269.84 138.89 10.34-10.34\" clip-path=\"url(#pc0339bf3e5)\" fill=\"none\" stroke=\"#ffffff\" stroke-linecap=\"square\" stroke-width=\"2\"/><path d=\"m315.29 184.35 10.34-10.34\" clip-path=\"url(#pc0339bf3e5)\" fill=\"none\" stroke=\"#ffffff\" stroke-linecap=\"square\" stroke-width=\"2\"/><path d=\"m133.49 140.37v-11.817\" clip-path=\"url(#pc0339bf3e5)\" fill=\"none\" stroke=\"#ffffff\" stroke-linecap=\"square\" stroke-width=\"2\"/><path d=\"m127.58 134.46h11.817\" clip-path=\"url(#pc0339bf3e5)\" fill=\"none\" stroke=\"#ffffff\" stroke-linecap=\"square\" stroke-width=\"2\"/><path d=\"m178.94 140.37v-11.817\" clip-path=\"url(#pc0339bf3e5)\" fill=\"none\" stroke=\"#ffffff\" stroke-linecap=\"square\" stroke-width=\"2\"/><path d=\"m173.03 134.46h11.817\" clip-path=\"url(#pc0339bf3e5)\" fill=\"none\" stroke=\"#ffffff\" stroke-linecap=\"square\" stroke-width=\"2\"/><path d=\"m224.39 185.82v-11.817\" clip-path=\"url(#pc0339bf3e5)\" fill=\"none\" stroke=\"#ffffff\" stroke-linecap=\"square\" stroke-width=\"2\"/><path d=\"m218.48 179.91h11.817\" clip-path=\"url(#pc0339bf3e5)\" fill=\"none\" stroke=\"#ffffff\" stroke-linecap=\"square\" stroke-width=\"2\"/><g clip-path=\"url(#pc0339bf3e5)\"><g transform=\"translate(36.363 48.012) scale(.1625 -.1625)\"><defs><path id=\"DejaVuSans-Oblique-71\" transform=\"scale(.015625)\" d=\"m2669 525q-231-303-546-460-314-156-695-156-531 0-833 358-301 358-301 986 0 506 186 978t533 847q225 244 517 375t614 131q387 0 637-153t363-462l100 525h578l-934-4813h-579l360 1844zm-1778 813q0-463 193-705 194-242 560-242 544 0 928 520t384 1264q0 450-199 689-198 239-569 239-272 0-504-127-231-126-403-370-181-256-286-600-104-343-104-668z\"/><path id=\"DejaVuSans-30\" transform=\"scale(.015625)\" d=\"m2034 4250q-487 0-733-480-245-479-245-1442 0-959 245-1439 246-480 733-480 491 0 736 480 246 480 246 1439 0 963-246 1442-245 480-736 480zm0 500q785 0 1199-621 414-620 414-1801 0-1178-414-1799-414-620-1199-620-784 0-1198 620-414 621-414 1799 0 1181 414 1801 414 621 1198 621z\"/></defs><use xlink:href=\"#DejaVuSans-Oblique-71\"/><use transform=\"translate(63.477 -16.406) scale(.7)\" xlink:href=\"#DejaVuSans-30\"/></g></g><g clip-path=\"url(#pc0339bf3e5)\"><g transform=\"translate(36.363 93.463) scale(.1625 -.1625)\"><defs><path id=\"DejaVuSans-31\" transform=\"scale(.015625)\" d=\"m794 531h1031v3560l-1122-225v575l1116 225h631v-4135h1031v-531h-2687v531z\"/></defs><use xlink:href=\"#DejaVuSans-Oblique-71\"/><use transform=\"translate(63.477 -16.406) scale(.7)\" xlink:href=\"#DejaVuSans-31\"/></g></g><g clip-path=\"url(#pc0339bf3e5)\"><g transform=\"translate(36.363 138.91) scale(.1625 -.1625)\"><defs><path id=\"DejaVuSans-32\" transform=\"scale(.015625)\" d=\"m1228 531h2203v-531h-2962v531q359 372 979 998 621 627 780 809 303 340 423 576 121 236 121 464 0 372-261 606-261 235-680 235-297 0-627-103-329-103-704-313v638q381 153 712 231 332 78 607 78 725 0 1156-363 431-362 431-968 0-288-108-546-107-257-392-607-78-91-497-524-418-433-1181-1211z\"/></defs><use xlink:href=\"#DejaVuSans-Oblique-71\"/><use transform=\"translate(63.477 -16.406) scale(.7)\" xlink:href=\"#DejaVuSans-32\"/></g></g><g clip-path=\"url(#pc0339bf3e5)\"><g transform=\"translate(36.363 184.36) scale(.1625 -.1625)\"><defs><path id=\"DejaVuSans-33\" transform=\"scale(.015625)\" d=\"m2597 2516q453-97 707-404 255-306 255-756 0-690-475-1069-475-378-1350-378-293 0-604 58t-642 174v609q262-153 574-231 313-78 654-78 593 0 904 234t311 681q0 413-289 645-289 233-804 233h-544v519h569q465 0 712 186t247 536q0 359-255 551-254 193-729 193-260 0-557-57-297-56-653-174v562q360 100 674 150t592 50q719 0 1137-327 419-326 419-882 0-388-222-655t-631-370z\"/></defs><use xlink:href=\"#DejaVuSans-Oblique-71\"/><use transform=\"translate(63.477 -16.406) scale(.7)\" xlink:href=\"#DejaVuSans-33\"/></g></g><g clip-path=\"url(#pc0339bf3e5)\"><g transform=\"translate(68.036 218.66) scale(.104 -.104)\"><use xlink:href=\"#DejaVuSans-32\"/></g></g><g clip-path=\"url(#pc0339bf3e5)\"><g transform=\"translate(45.466 229.85) scale(.1625 -.1625)\"><defs><path id=\"DejaVuSans-63\" transform=\"scale(.015625)\" d=\"m3122 3366v-538q-244 135-489 202t-495 67q-560 0-870-355-309-354-309-995t309-996q310-354 870-354 250 0 495 67t489 202v-532q-241-112-499-168-257-57-548-57-791 0-1257 497-465 497-465 1341 0 856 470 1346 471 491 1290 491 265 0 518-55 253-54 491-163z\"/></defs><use xlink:href=\"#DejaVuSans-63\"/></g></g><g clip-path=\"url(#pc0339bf3e5)\"><g transform=\"translate(83.582 47.148) scale(.13 -.13)\" fill=\"#ffffff\"><defs><path id=\"DejaVuSans-58\" transform=\"scale(.015625)\" d=\"m403 4666h678l1160-1735 1165 1735h678l-1500-2241 1600-2425h-678l-1312 1984-1322-1984h-681l1665 2491-1453 2175z\"/></defs><use xlink:href=\"#DejaVuSans-58\"/></g></g><g clip-path=\"url(#pc0339bf3e5)\"><g transform=\"translate(83.582 92.599) scale(.13 -.13)\" fill=\"#ffffff\"><use xlink:href=\"#DejaVuSans-58\"/></g></g><g clip-path=\"url(#pc0339bf3e5)\"><g transform=\"translate(281.2 218.66) scale(.104 -.104)\"><use xlink:href=\"#DejaVuSans-30\"/></g></g><g clip-path=\"url(#pc0339bf3e5)\"><g transform=\"translate(326.65 218.66) scale(.104 -.104)\"><use xlink:href=\"#DejaVuSans-31\"/></g></g><defs><clipPath id=\"pc0339bf3e5\"><rect x=\"7.2\" y=\"7.2\" width=\"338.09\" height=\"245.44\"/></clipPath></defs></svg>"
      ],
      "text/plain": [
       "<Figure size 447.797x325.08 with 1 Axes>"
      ]
     },
     "execution_count": 8,
     "metadata": {},
     "output_type": "execute_result"
    }
   ],
   "source": [
    "test_qc = QuantumCircuit(4, 2)\n",
    "\n",
    "# First, our circuit should encode an input (here '11')\n",
    "test_qc.x(0)\n",
    "test_qc.x(1)\n",
    "\n",
    "# Next, it should carry out the adder circuit we created\n",
    "test_qc.cx(0,2)\n",
    "test_qc.cx(1,2)\n",
    "test_qc.ccx(0,1,3)\n",
    "\n",
    "# Finally, we will measure the bottom two qubits to extract the output\n",
    "test_qc.measure(2,0)\n",
    "test_qc.measure(3,1)\n",
    "test_qc.draw()"
   ]
  },
  {
   "cell_type": "code",
   "execution_count": 9,
   "metadata": {},
   "outputs": [
    {
     "data": {
      "text/plain": [
       "{'10': 1024}"
      ]
     },
     "execution_count": 9,
     "metadata": {},
     "output_type": "execute_result"
    }
   ],
   "source": [
    "job = sim.run(test_qc)  # run the experiment\n",
    "result = job.result()   # get the results\n",
    "result.get_counts()     # interpret the results as a “counts” dictionary"
   ]
  },
  {
   "cell_type": "markdown",
   "metadata": {},
   "source": [
    "ここでは、結果「10」が1024回測定され、それ以外の結果は測定していないことがわかります。\n",
    "\n",
    "<!-- ::: q-block.exercise -->\n",
    "\n",
    "### 練習問題\n",
    "\n",
    "半加算回路が4つの可能な入力すべてに対して動作することを確認せよ。\n",
    "\n",
    "[IBM Quantum Labで試してみる](https://quantum-computing.ibm.com/lab)\n",
    "\n",
    "<!-- ::: -->\n",
    "\n",
    "半加算器には、足し算に必要なものがすべて入っています。NOTゲート、CNOTゲート、Toffoliゲートを使えば、どんな大きさの数の集合でも足し算をするプログラムを作ることができます。\n",
    "\n",
    "この3つのゲートで、計算の他のすべてのこともできるのです。実際は、CNOTがなくても大丈夫です。さらに、NOTゲートは値1のビットを生成するのに必要なだけです。トフォリゲートは、本質的に数学の原子です。最も単純な要素であり、そこから他のあらゆる問題解決技法を組み合わせることができます。"
   ]
  }
 ],
 "metadata": {
  "kernelspec": {
   "display_name": "Python 3",
   "language": "python",
   "name": "python3"
  },
  "language_info": {
   "codemirror_mode": {
    "name": "ipython",
    "version": 3
   },
   "file_extension": ".py",
   "mimetype": "text/x-python",
   "name": "python",
   "nbconvert_exporter": "python",
   "pygments_lexer": "ipython3",
   "version": "3.9"
  }
 },
 "nbformat": 4,
 "nbformat_minor": 4
}
